{
 "cells": [
  {
   "cell_type": "code",
   "execution_count": 37,
   "metadata": {},
   "outputs": [
    {
     "name": "stdout",
     "output_type": "stream",
     "text": [
      "6531031914842725\n",
      "0.012926340103149414\n"
     ]
    }
   ],
   "source": [
    "start = time.time()\n",
    "dig = 0\n",
    "a1_list = list(range(1,10))\n",
    "a = [10,0,0]\n",
    "b = [0,0,0]\n",
    "c = [0,0,0]\n",
    "d = [0,0,0]\n",
    "e = [0,0,0]\n",
    "big_list = []\n",
    "for a1 in nlist:\n",
    "    a[1] = a1\n",
    "    ix = a1_list.index(a1)\n",
    "    a2_list = a1_list[:ix]+a1_list[ix+1:]\n",
    "    \n",
    "    for a2 in a2_list:\n",
    "        a[2] = a2\n",
    "        ix = a2_list.index(a2)\n",
    "        b0_list = a2_list[:ix]+a2_list[ix+1:]\n",
    "        \n",
    "        N = sum(a)\n",
    "        \n",
    "        b[1] = a[2]\n",
    "        \n",
    "        for b0 in b0_list:\n",
    "            b[0] = b0\n",
    "            ix = b0_list.index(b0)\n",
    "            b2_list = b0_list[:ix]+b0_list[ix+1:]\n",
    "            \n",
    "            for b2 in b2_list:\n",
    "                b[2] = b2\n",
    "                ix = b2_list.index(b2)\n",
    "                c0_list = b2_list[:ix]+b2_list[ix+1:]\n",
    "\n",
    "                if sum(b)!=N:\n",
    "                    continue\n",
    "\n",
    "                c[1] = b[2]\n",
    "                \n",
    "                for c0 in c0_list:\n",
    "                    c[0] = c0\n",
    "                    ix = c0_list.index(c0)\n",
    "                    c2_list = c0_list[:ix]+c0_list[ix+1:]\n",
    "\n",
    "                    for c2 in c2_list:\n",
    "                        c[2] = c2\n",
    "                        ix = c2_list.index(c2)\n",
    "                        d0_list = c2_list[:ix]+c2_list[ix+1:]\n",
    "\n",
    "                        if sum(c)!=N:\n",
    "                            continue\n",
    "\n",
    "                        d[1] = c[2]\n",
    "                        \n",
    "                        for d0 in d0_list:\n",
    "                            d[0] = d0\n",
    "                            ix = d0_list.index(d0)\n",
    "                            d2_list = d0_list[:ix]+d0_list[ix+1:]\n",
    "\n",
    "                            for d2 in d2_list:\n",
    "                                d[2] = d2\n",
    "                                ix = d2_list.index(d2)\n",
    "                                e0_list = d2_list[:ix]+d2_list[ix+1:]\n",
    "\n",
    "                                if sum(d)!=N:\n",
    "                                    continue\n",
    "\n",
    "                                e[1] = d[2]\n",
    "                                \n",
    "                                e[0] = e0_list[0]\n",
    "                                e[2] = a[1]\n",
    "                                \n",
    "                                if sum(e) == N:\n",
    "                                    test_str = []\n",
    "                                    full_list = [a,b,c,d,e]\n",
    "                                    test = full_list[0][0]\n",
    "                                    idx = 0\n",
    "                                    for ii in range(1,5):\n",
    "                                        if full_list[ii][0] < test:\n",
    "                                            test = full_list[ii][0]\n",
    "                                            idx = ii\n",
    "                                    for jj in range(0,5):\n",
    "                                        ijx = (idx+jj)%5\n",
    "                                        test_str = test_str + [str(num) for num in full_list[ijx]]\n",
    "                                    \n",
    "                                    t_s = ''.join(test_str)\n",
    "                                    if int(t_s)>dig:\n",
    "                                        dig = int(t_s)\n",
    "                                            \n",
    "print(dig)\n",
    "end = time.time()\n",
    "\n",
    "print(end-start)"
   ]
  },
  {
   "cell_type": "code",
   "execution_count": 36,
   "metadata": {},
   "outputs": [],
   "source": [
    "import time"
   ]
  },
  {
   "cell_type": "code",
   "execution_count": 17,
   "metadata": {},
   "outputs": [
    {
     "data": {
      "text/plain": [
       "['4', '3', '7']"
      ]
     },
     "execution_count": 17,
     "metadata": {},
     "output_type": "execute_result"
    }
   ],
   "source": [
    "test_str"
   ]
  },
  {
   "cell_type": "code",
   "execution_count": 20,
   "metadata": {},
   "outputs": [],
   "source": [
    "t_s = [aa for aa in test_str]"
   ]
  },
  {
   "cell_type": "code",
   "execution_count": 14,
   "metadata": {},
   "outputs": [],
   "source": [
    "test_str = test_str+[str(num) for num in a]"
   ]
  },
  {
   "cell_type": "code",
   "execution_count": 21,
   "metadata": {},
   "outputs": [
    {
     "data": {
      "text/plain": [
       "['4', '3', '7']"
      ]
     },
     "execution_count": 21,
     "metadata": {},
     "output_type": "execute_result"
    }
   ],
   "source": [
    "t_s"
   ]
  },
  {
   "cell_type": "code",
   "execution_count": null,
   "metadata": {
    "collapsed": true
   },
   "outputs": [],
   "source": []
  }
 ],
 "metadata": {
  "kernelspec": {
   "display_name": "Python 3",
   "language": "python",
   "name": "python3"
  },
  "language_info": {
   "codemirror_mode": {
    "name": "ipython",
    "version": 3
   },
   "file_extension": ".py",
   "mimetype": "text/x-python",
   "name": "python",
   "nbconvert_exporter": "python",
   "pygments_lexer": "ipython3",
   "version": "3.6.1"
  }
 },
 "nbformat": 4,
 "nbformat_minor": 2
}
