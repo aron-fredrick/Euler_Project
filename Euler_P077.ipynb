{
 "cells": [
  {
   "cell_type": "code",
   "execution_count": 2,
   "metadata": {
    "collapsed": true
   },
   "outputs": [],
   "source": [
    "from math import floor"
   ]
  },
  {
   "cell_type": "code",
   "execution_count": 12,
   "metadata": {
    "collapsed": true
   },
   "outputs": [],
   "source": [
    "def primes(N_max):\n",
    "    # returns all primes below N_max\n",
    "    prime_numbers = [2]\n",
    "    test = True\n",
    "    N = 3\n",
    "    \n",
    "    while prime_numbers[-1] < N_max:\n",
    "        isprime = True\n",
    "        for prime in prime_numbers:\n",
    "            if N%prime == 0:\n",
    "                isprime = False\n",
    "                break\n",
    "        if isprime:\n",
    "            if N > N_max:\n",
    "                break\n",
    "            prime_numbers.append(N)\n",
    "        N = N + 2\n",
    "    return prime_numbers"
   ]
  },
  {
   "cell_type": "code",
   "execution_count": 23,
   "metadata": {
    "collapsed": true
   },
   "outputs": [],
   "source": [
    "def PS(n,primelist):\n",
    "    if n==0:\n",
    "        return 1\n",
    "    if n==1:\n",
    "        return 0\n",
    "    if len(primelist)==1:\n",
    "        if n%2==1:\n",
    "            return 0\n",
    "        else:\n",
    "            return 1\n",
    "    c=0\n",
    "    for ii in range(int(floor(n/primelist[0])),-1,-1):\n",
    "        newn = n-ii*primelist[0]\n",
    "        c+=PS(newn,primelist[1::])\n",
    "    return c"
   ]
  },
  {
   "cell_type": "code",
   "execution_count": 30,
   "metadata": {},
   "outputs": [
    {
     "name": "stdout",
     "output_type": "stream",
     "text": [
      "10 5\n",
      "11 6\n",
      "12 7\n",
      "13 9\n",
      "14 10\n",
      "15 12\n",
      "16 14\n",
      "17 17\n",
      "18 19\n",
      "19 23\n",
      "20 26\n",
      "21 30\n",
      "22 35\n",
      "23 40\n",
      "24 46\n",
      "25 52\n",
      "26 60\n",
      "27 67\n",
      "28 77\n",
      "29 87\n",
      "30 98\n",
      "31 111\n",
      "32 124\n",
      "33 140\n",
      "34 157\n",
      "35 175\n",
      "36 197\n",
      "37 219\n",
      "38 244\n",
      "39 272\n",
      "40 302\n",
      "41 336\n",
      "42 372\n",
      "43 413\n",
      "44 456\n",
      "45 504\n",
      "46 557\n",
      "47 614\n",
      "48 677\n",
      "49 744\n",
      "50 819\n",
      "51 899\n",
      "52 987\n",
      "53 1083\n",
      "54 1186\n",
      "55 1298\n",
      "56 1420\n",
      "57 1552\n",
      "58 1695\n",
      "59 1850\n",
      "60 2018\n",
      "61 2198\n",
      "62 2394\n",
      "63 2605\n",
      "64 2833\n",
      "65 3079\n",
      "66 3344\n",
      "67 3630\n",
      "68 3936\n",
      "69 4268\n",
      "70 4624\n",
      "71 5007\n"
     ]
    }
   ],
   "source": [
    "nmax = 0\n",
    "N = 10\n",
    "while nmax<5000:\n",
    "    ntest = PS(N,primes(N)[::-1])\n",
    "    if ntest > nmax:\n",
    "        print(N,ntest)\n",
    "        nmax = ntest\n",
    "        Nsol = N\n",
    "    N+=1"
   ]
  },
  {
   "cell_type": "code",
   "execution_count": 27,
   "metadata": {},
   "outputs": [
    {
     "data": {
      "text/plain": [
       "71"
      ]
     },
     "execution_count": 27,
     "metadata": {},
     "output_type": "execute_result"
    }
   ],
   "source": [
    "Nsol"
   ]
  },
  {
   "cell_type": "code",
   "execution_count": null,
   "metadata": {
    "collapsed": true
   },
   "outputs": [],
   "source": []
  }
 ],
 "metadata": {
  "kernelspec": {
   "display_name": "Python 3",
   "language": "python",
   "name": "python3"
  },
  "language_info": {
   "codemirror_mode": {
    "name": "ipython",
    "version": 3
   },
   "file_extension": ".py",
   "mimetype": "text/x-python",
   "name": "python",
   "nbconvert_exporter": "python",
   "pygments_lexer": "ipython3",
   "version": "3.6.1"
  }
 },
 "nbformat": 4,
 "nbformat_minor": 2
}
