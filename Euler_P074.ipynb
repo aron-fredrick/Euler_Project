{
 "cells": [
  {
   "cell_type": "code",
   "execution_count": 1,
   "metadata": {
    "collapsed": true
   },
   "outputs": [],
   "source": [
    "import time\n",
    "\n",
    "def factorial(N):\n",
    "    # calculates N!\n",
    "    if N==0:\n",
    "        return 1\n",
    "    if N==1:\n",
    "        return 1\n",
    "    else:\n",
    "        return N*factorial(N-1)\n",
    "    \n",
    "def factorial_dig(N):\n",
    "    # calc sum of factorials of digits of N\n",
    "    Nstr = str(N)\n",
    "    Nsum = 0\n",
    "    for char in Nstr:\n",
    "        Nsum += factorial(int(char))\n",
    "        \n",
    "    return Nsum"
   ]
  },
  {
   "cell_type": "code",
   "execution_count": 14,
   "metadata": {
    "collapsed": true
   },
   "outputs": [],
   "source": [
    "loops_dict = {\n",
    "    1:1,\n",
    "    2:1,\n",
    "    145:1,\n",
    "    169:3,\n",
    "    363601:3,\n",
    "    1454:3,\n",
    "    871:2,\n",
    "    45361:2,\n",
    "    872:2,\n",
    "    45362:2\n",
    "}\n",
    "\n",
    "\n"
   ]
  },
  {
   "cell_type": "code",
   "execution_count": 15,
   "metadata": {
    "collapsed": false
   },
   "outputs": [
    {
     "name": "stdout",
     "output_type": "stream",
     "text": [
      "20.504798412322998\n",
      "402\n"
     ]
    }
   ],
   "source": [
    "start = time.time()\n",
    "\n",
    "count = 0\n",
    "minN = 1\n",
    "maxN = 10**6\n",
    "for ii in range(minN,maxN+1):\n",
    "    nlist = []\n",
    "    iinew = ii\n",
    "    c = 0\n",
    "    while iinew not in loops_dict and c<=65:\n",
    "        nlist.append(iinew)\n",
    "        iinew = factorial_dig(iinew)\n",
    "        if iinew in nlist:\n",
    "            loops_dict[iinew] = 1\n",
    "            nlist = nlist[0:len(nlist)-1]\n",
    "        #print(iinew)\n",
    "        c+=1\n",
    "    \n",
    "    nlen = len(nlist)\n",
    "    for jj in range(0,len(nlist)):\n",
    "        num = nlist[jj]\n",
    "        looplen = (nlen-jj)+loops_dict[iinew]\n",
    "        loops_dict[num] = looplen\n",
    "        \n",
    "        if looplen == 60:\n",
    "            count+=1\n",
    "            \n",
    "end=time.time()\n",
    "print(end-start)\n",
    "print(count)\n"
   ]
  },
  {
   "cell_type": "code",
   "execution_count": 13,
   "metadata": {
    "collapsed": false
   },
   "outputs": [
    {
     "name": "stdout",
     "output_type": "stream",
     "text": [
      "120\n"
     ]
    }
   ],
   "source": [
    "print(count)"
   ]
  },
  {
   "cell_type": "code",
   "execution_count": 11,
   "metadata": {
    "collapsed": false
   },
   "outputs": [
    {
     "data": {
      "text/plain": [
       "552667"
      ]
     },
     "execution_count": 11,
     "metadata": {},
     "output_type": "execute_result"
    }
   ],
   "source": [
    "ii"
   ]
  },
  {
   "cell_type": "code",
   "execution_count": null,
   "metadata": {
    "collapsed": true
   },
   "outputs": [],
   "source": [
    "minN = ii"
   ]
  },
  {
   "cell_type": "code",
   "execution_count": null,
   "metadata": {
    "collapsed": false
   },
   "outputs": [],
   "source": [
    "count"
   ]
  },
  {
   "cell_type": "code",
   "execution_count": 5,
   "metadata": {
    "collapsed": true
   },
   "outputs": [],
   "source": [
    "ntest = iinew"
   ]
  },
  {
   "cell_type": "code",
   "execution_count": 6,
   "metadata": {
    "collapsed": false
   },
   "outputs": [
    {
     "data": {
      "text/plain": [
       "40585"
      ]
     },
     "execution_count": 6,
     "metadata": {},
     "output_type": "execute_result"
    }
   ],
   "source": [
    "ntest"
   ]
  },
  {
   "cell_type": "code",
   "execution_count": 9,
   "metadata": {
    "collapsed": false
   },
   "outputs": [
    {
     "name": "stdout",
     "output_type": "stream",
     "text": [
      "40585\n"
     ]
    }
   ],
   "source": [
    "ntest = factorial_dig(ntest)\n",
    "print(ntest)"
   ]
  },
  {
   "cell_type": "code",
   "execution_count": null,
   "metadata": {
    "collapsed": true
   },
   "outputs": [],
   "source": []
  }
 ],
 "metadata": {
  "anaconda-cloud": {},
  "kernelspec": {
   "display_name": "Python [conda env:Anaconda3]",
   "language": "python",
   "name": "conda-env-Anaconda3-py"
  },
  "language_info": {
   "codemirror_mode": {
    "name": "ipython",
    "version": 3
   },
   "file_extension": ".py",
   "mimetype": "text/x-python",
   "name": "python",
   "nbconvert_exporter": "python",
   "pygments_lexer": "ipython3",
   "version": "3.5.2"
  }
 },
 "nbformat": 4,
 "nbformat_minor": 2
}
