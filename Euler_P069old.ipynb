{
 "cells": [
  {
   "cell_type": "code",
   "execution_count": 28,
   "metadata": {
    "collapsed": true
   },
   "outputs": [],
   "source": [
    "def gcd(a,b):\n",
    "    # calculate greatest common divisor of a and b\n",
    "    if a==b:\n",
    "        return a\n",
    "    elif a<b:\n",
    "        tempa = b\n",
    "        b = a\n",
    "        a = tempa\n",
    "    \n",
    "    rem = a%b\n",
    "    \n",
    "    if rem == 0:\n",
    "        return b\n",
    "    else:\n",
    "        return gcd(b,rem)\n",
    "    \n",
    "def isprime(n):\n",
    "    # checks to see if a number, n, is prime\n",
    "    import numpy as np\n",
    "    prime = True\n",
    "    if n>=2:\n",
    "        \n",
    "        for ii in range(2,int(np.ceil(np.sqrt(n)))):\n",
    "            if n%ii == 0:\n",
    "                prime = False\n",
    "                break\n",
    "    else:\n",
    "        prime = False\n",
    "    return prime"
   ]
  },
  {
   "cell_type": "code",
   "execution_count": 49,
   "metadata": {},
   "outputs": [
    {
     "ename": "KeyboardInterrupt",
     "evalue": "",
     "output_type": "error",
     "traceback": [
      "\u001b[1;31m---------------------------------------------------------------------------\u001b[0m",
      "\u001b[1;31mKeyboardInterrupt\u001b[0m                         Traceback (most recent call last)",
      "\u001b[1;32m<ipython-input-49-2043d0c4f0aa>\u001b[0m in \u001b[0;36m<module>\u001b[1;34m()\u001b[0m\n\u001b[0;32m      7\u001b[0m         \u001b[1;32mcontinue\u001b[0m\u001b[1;33m\u001b[0m\u001b[0m\n\u001b[0;32m      8\u001b[0m \u001b[1;33m\u001b[0m\u001b[0m\n\u001b[1;32m----> 9\u001b[1;33m     \u001b[1;32mfor\u001b[0m \u001b[0mnum2\u001b[0m \u001b[1;32min\u001b[0m \u001b[0mrange\u001b[0m\u001b[1;33m(\u001b[0m\u001b[1;36m2\u001b[0m\u001b[1;33m,\u001b[0m\u001b[0mnum1\u001b[0m\u001b[1;33m-\u001b[0m\u001b[1;36m1\u001b[0m\u001b[1;33m)\u001b[0m\u001b[1;33m:\u001b[0m\u001b[1;33m\u001b[0m\u001b[0m\n\u001b[0m\u001b[0;32m     10\u001b[0m         \u001b[0mgcd_test\u001b[0m \u001b[1;33m=\u001b[0m \u001b[0mgcd\u001b[0m\u001b[1;33m(\u001b[0m\u001b[0mnum1\u001b[0m\u001b[1;33m,\u001b[0m\u001b[0mnum2\u001b[0m\u001b[1;33m)\u001b[0m\u001b[1;33m\u001b[0m\u001b[0m\n\u001b[0;32m     11\u001b[0m         \u001b[1;31m#print(num1,num2,gcd_test)\u001b[0m\u001b[1;33m\u001b[0m\u001b[1;33m\u001b[0m\u001b[0m\n",
      "\u001b[1;31mKeyboardInterrupt\u001b[0m: "
     ]
    }
   ],
   "source": [
    "#max_ratio = 0\n",
    "n1 = num1\n",
    "\n",
    "for num1 in range(n1,1000001):\n",
    "    phi = 2\n",
    "    if isprime(num1):\n",
    "        continue\n",
    "        \n",
    "    for num2 in range(2,num1-1):\n",
    "        gcd_test = gcd(num1,num2)\n",
    "        #print(num1,num2,gcd_test)\n",
    "        if gcd_test == 1:\n",
    "            phi+=1\n",
    "        if num1/phi < max_ratio:\n",
    "            break\n",
    "    \n",
    "    #print(num1,phi)\n",
    "    if num1/phi > max_ratio:\n",
    "        print(num1,phi)\n",
    "        max_ratio = num1/phi\n",
    "        final_n = num1\n",
    "        \n",
    "print(final_n,max_ratio)"
   ]
  },
  {
   "cell_type": "code",
   "execution_count": 51,
   "metadata": {},
   "outputs": [
    {
     "data": {
      "text/plain": [
       "5.213541666666667"
      ]
     },
     "execution_count": 51,
     "metadata": {},
     "output_type": "execute_result"
    }
   ],
   "source": [
    "max_ratio"
   ]
  },
  {
   "cell_type": "code",
   "execution_count": 50,
   "metadata": {},
   "outputs": [
    {
     "data": {
      "text/plain": [
       "121410"
      ]
     },
     "execution_count": 50,
     "metadata": {},
     "output_type": "execute_result"
    }
   ],
   "source": [
    "num1"
   ]
  },
  {
   "cell_type": "code",
   "execution_count": 48,
   "metadata": {},
   "outputs": [
    {
     "data": {
      "text/plain": [
       "30030"
      ]
     },
     "execution_count": 48,
     "metadata": {},
     "output_type": "execute_result"
    }
   ],
   "source": [
    "final_n"
   ]
  },
  {
   "cell_type": "code",
   "execution_count": null,
   "metadata": {
    "collapsed": true
   },
   "outputs": [],
   "source": []
  }
 ],
 "metadata": {
  "kernelspec": {
   "display_name": "Python 3",
   "language": "python",
   "name": "python3"
  },
  "language_info": {
   "codemirror_mode": {
    "name": "ipython",
    "version": 3
   },
   "file_extension": ".py",
   "mimetype": "text/x-python",
   "name": "python",
   "nbconvert_exporter": "python",
   "pygments_lexer": "ipython3",
   "version": "3.6.1"
  }
 },
 "nbformat": 4,
 "nbformat_minor": 2
}
