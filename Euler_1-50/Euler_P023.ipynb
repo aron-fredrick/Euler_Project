{
 "cells": [
  {
   "cell_type": "code",
   "execution_count": 9,
   "metadata": {
    "collapsed": true
   },
   "outputs": [],
   "source": [
    "import numpy as np\n",
    "\n",
    "def sumfactors(N):\n",
    "    divisors = [1]\n",
    "    sqrtN = np.floor(np.sqrt(N))\n",
    "    for ii in range(2,int(sqrtN)+1):\n",
    "        if N%ii ==0:\n",
    "            divisors.append(ii)\n",
    "            if ii!=np.sqrt(N):\n",
    "                divisors.append(N/ii)\n",
    "                \n",
    "    return sum(divisors)"
   ]
  },
  {
   "cell_type": "code",
   "execution_count": 14,
   "metadata": {},
   "outputs": [],
   "source": [
    "smallN = 12\n",
    "largeN = 28123-11\n",
    "\n",
    "abundant_numbers = []\n",
    "\n",
    "for ii in range(smallN,largeN+1):\n",
    "    if sumfactors(ii)>ii:\n",
    "        abundant_numbers.append(ii)\n",
    "        \n",
    "non_abundant_sums = []\n",
    "\n",
    "for jj in range(1,28123+1):\n",
    "    \n",
    "    test_condition = True\n",
    "    \n",
    "    for kk in abundant_numbers:\n",
    "        test_number = jj-kk\n",
    "        if test_number < 0:\n",
    "            break\n",
    "        if test_number in abundant_numbers:\n",
    "            test_condition = False\n",
    "            break\n",
    "    \n",
    "    if test_condition:\n",
    "        non_abundant_sums.append(jj)\n",
    "            "
   ]
  },
  {
   "cell_type": "code",
   "execution_count": 15,
   "metadata": {},
   "outputs": [
    {
     "data": {
      "text/plain": [
       "4179871"
      ]
     },
     "execution_count": 15,
     "metadata": {},
     "output_type": "execute_result"
    }
   ],
   "source": [
    "sum(non_abundant_sums)"
   ]
  },
  {
   "cell_type": "code",
   "execution_count": null,
   "metadata": {
    "collapsed": true
   },
   "outputs": [],
   "source": []
  }
 ],
 "metadata": {
  "kernelspec": {
   "display_name": "Python 3",
   "language": "python",
   "name": "python3"
  },
  "language_info": {
   "codemirror_mode": {
    "name": "ipython",
    "version": 3
   },
   "file_extension": ".py",
   "mimetype": "text/x-python",
   "name": "python",
   "nbconvert_exporter": "python",
   "pygments_lexer": "ipython3",
   "version": "3.6.1"
  }
 },
 "nbformat": 4,
 "nbformat_minor": 2
}
