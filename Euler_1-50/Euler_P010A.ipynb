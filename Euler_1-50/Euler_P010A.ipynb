{
 "cells": [
  {
   "cell_type": "code",
   "execution_count": 5,
   "metadata": {},
   "outputs": [
    {
     "name": "stdout",
     "output_type": "stream",
     "text": [
      "The value of the sum = 142913828922 and it took 1771.4377872943878 seconds\n"
     ]
    }
   ],
   "source": [
    "import time\n",
    "start = time.time()\n",
    "prime_numbers = [2]\n",
    "test = True\n",
    "N = 3\n",
    "upper = 2*pow(10,6)\n",
    "\n",
    "while N < upper:\n",
    "    isprime = True\n",
    "    for prime in prime_numbers:\n",
    "        if N%prime == 0:\n",
    "            isprime = False\n",
    "            break\n",
    "    if isprime:\n",
    "        prime_numbers.append(N)\n",
    "    N = N + 2\n",
    "prime_sum = sum(prime_numbers)\n",
    "end = time.time()\n",
    "print(f'The value of the sum = {prime_sum} and it took {end - start} seconds')"
   ]
  },
  {
   "cell_type": "code",
   "execution_count": null,
   "metadata": {
    "collapsed": true
   },
   "outputs": [],
   "source": []
  }
 ],
 "metadata": {
  "kernelspec": {
   "display_name": "Python 3",
   "language": "python",
   "name": "python3"
  },
  "language_info": {
   "codemirror_mode": {
    "name": "ipython",
    "version": 3
   },
   "file_extension": ".py",
   "mimetype": "text/x-python",
   "name": "python",
   "nbconvert_exporter": "python",
   "pygments_lexer": "ipython3",
   "version": "3.6.1"
  }
 },
 "nbformat": 4,
 "nbformat_minor": 2
}
