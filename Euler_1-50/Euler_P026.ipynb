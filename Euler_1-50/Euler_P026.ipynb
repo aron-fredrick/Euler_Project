{
 "cells": [
  {
   "cell_type": "code",
   "execution_count": 54,
   "metadata": {},
   "outputs": [],
   "source": [
    "upper_limit = 1000\n",
    "max_repeat = 0\n",
    "\n",
    "prime_numbers = [2]\n",
    "prime_factors = []\n",
    "test = True\n",
    "N = 3\n",
    "N_max = 1000\n",
    "\n",
    "while prime_numbers[-1] < N_max:\n",
    "    isprime = True\n",
    "    for prime in prime_numbers:\n",
    "        if N%prime == 0:\n",
    "            isprime = False\n",
    "            break\n",
    "    if isprime:\n",
    "        if N > N_max:\n",
    "            break\n",
    "        prime_numbers.append(N)\n",
    "    N = N + 2\n",
    "\n",
    "    \n",
    "longest_repeat = 0\n",
    "\n",
    "for ii in prime_numbers:\n",
    "    if (1000000/ii)%1 ==0:\n",
    "        continue\n",
    "    n = str(Decimal(1)/Decimal(ii))\n",
    "    \n",
    "    for jj in range(2,len(n)):\n",
    "        test_string = n[2:jj+1]\n",
    "        test = int(test_string)\n",
    "        test_nines = test*ii\n",
    "        if pow(10,len(test_string))-1 == test_nines:\n",
    "            repeat_length = jj - 1\n",
    "            break\n",
    "   \n",
    "    if repeat_length > longest_repeat:\n",
    "        longest_repeat = repeat_length\n",
    "        d_number = ii\n",
    "        \n",
    "    \n",
    "        "
   ]
  },
  {
   "cell_type": "code",
   "execution_count": 52,
   "metadata": {},
   "outputs": [
    {
     "data": {
      "text/plain": [
       "982"
      ]
     },
     "execution_count": 52,
     "metadata": {},
     "output_type": "execute_result"
    }
   ],
   "source": [
    "longest_repeat"
   ]
  },
  {
   "cell_type": "code",
   "execution_count": 53,
   "metadata": {},
   "outputs": [
    {
     "data": {
      "text/plain": [
       "166"
      ]
     },
     "execution_count": 53,
     "metadata": {},
     "output_type": "execute_result"
    }
   ],
   "source": [
    "repeat_length"
   ]
  },
  {
   "cell_type": "code",
   "execution_count": 55,
   "metadata": {},
   "outputs": [
    {
     "data": {
      "text/plain": [
       "983"
      ]
     },
     "execution_count": 55,
     "metadata": {},
     "output_type": "execute_result"
    }
   ],
   "source": [
    "d_number"
   ]
  },
  {
   "cell_type": "code",
   "execution_count": 11,
   "metadata": {
    "collapsed": true
   },
   "outputs": [],
   "source": [
    "from decimal import *"
   ]
  },
  {
   "cell_type": "code",
   "execution_count": 28,
   "metadata": {},
   "outputs": [
    {
     "data": {
      "text/plain": [
       "'0.0010030090270812437311935807422266800401203610832497492477432296890672016048144433299899699097291875626880641925777331995987963891675025075225677031093279839518555667001003009027081243731193580742226680'"
      ]
     },
     "execution_count": 28,
     "metadata": {},
     "output_type": "execute_result"
    }
   ],
   "source": [
    "str(Decimal(1)/Decimal(997))"
   ]
  },
  {
   "cell_type": "code",
   "execution_count": 47,
   "metadata": {
    "collapsed": true
   },
   "outputs": [],
   "source": [
    "getcontext().prec = 1000"
   ]
  },
  {
   "cell_type": "code",
   "execution_count": 42,
   "metadata": {},
   "outputs": [
    {
     "name": "stdout",
     "output_type": "stream",
     "text": [
      "0.14285714285714285714285714285714285714285714285714285714285714285714285714285714285714285714285714285714285714285714285714285714285714285714285714285714285714285714285714285714285714285714285714285714\n",
      "1 7\n",
      "14 98\n",
      "142 994\n",
      "1428 9996\n",
      "14285 99995\n",
      "142857 999999\n"
     ]
    }
   ],
   "source": [
    "ii = 7\n",
    "\n",
    "n = str(Decimal(1)/Decimal(ii))\n",
    "print(n)\n",
    "\n",
    "for jj in range(2,len(n)):\n",
    "    test_string = n[2:jj+1]\n",
    "    test = int(test_string)\n",
    "    test_nines = test*ii\n",
    "    print(test,test_nines)\n",
    "    if pow(10,len(test_string))-1 == test_nines:\n",
    "        repeat_length = jj - 1\n",
    "        break\n",
    "\n",
    "if repeat_length > longest_repeat:\n",
    "    longest_repeat = repeat_length"
   ]
  },
  {
   "cell_type": "code",
   "execution_count": null,
   "metadata": {
    "collapsed": true
   },
   "outputs": [],
   "source": []
  }
 ],
 "metadata": {
  "kernelspec": {
   "display_name": "Python 3",
   "language": "python",
   "name": "python3"
  },
  "language_info": {
   "codemirror_mode": {
    "name": "ipython",
    "version": 3
   },
   "file_extension": ".py",
   "mimetype": "text/x-python",
   "name": "python",
   "nbconvert_exporter": "python",
   "pygments_lexer": "ipython3",
   "version": "3.6.1"
  }
 },
 "nbformat": 4,
 "nbformat_minor": 2
}
