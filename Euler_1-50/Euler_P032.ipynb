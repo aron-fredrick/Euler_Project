{
 "cells": [
  {
   "cell_type": "code",
   "execution_count": 7,
   "metadata": {},
   "outputs": [],
   "source": [
    "def find_factors(n):\n",
    "    from math import floor\n",
    "    import numpy as np\n",
    "    factors = []\n",
    "    for ii in range(1,floor(np.sqrt(n))+1):\n",
    "        if n%ii == 0:\n",
    "            factors.append(ii)\n",
    "            if ii*ii != n:\n",
    "                factors.append(int(n/ii))\n",
    "    factors.sort()\n",
    "    return factors"
   ]
  },
  {
   "cell_type": "code",
   "execution_count": 13,
   "metadata": {
    "collapsed": true
   },
   "outputs": [],
   "source": [
    "all_nums = ['1','2','3','4','5','6','7','8','9']\n",
    "pan_num = []\n",
    "for ii in range(3124,9876):\n",
    "    if '0' in str(ii):\n",
    "        continue\n",
    "    factors = find_factors(ii)\n",
    "    \n",
    "    for jj in factors:\n",
    "        pandig = True\n",
    "        f1 = jj\n",
    "        f2 = int(ii/jj)\n",
    "        tot_str = str(ii)+str(f1)+str(f2)\n",
    "        if len(tot_str)==9:\n",
    "            for kk in all_nums:\n",
    "                if kk not in tot_str:\n",
    "                    pandig = False\n",
    "                    break\n",
    "        else:\n",
    "            pandig = False\n",
    "        if pandig:\n",
    "            pan_num.append(ii)\n",
    "            break\n",
    "            \n",
    "    \n",
    "    "
   ]
  },
  {
   "cell_type": "code",
   "execution_count": 15,
   "metadata": {},
   "outputs": [
    {
     "data": {
      "text/plain": [
       "45228"
      ]
     },
     "execution_count": 15,
     "metadata": {},
     "output_type": "execute_result"
    }
   ],
   "source": [
    "sum(pan_num)"
   ]
  },
  {
   "cell_type": "code",
   "execution_count": null,
   "metadata": {
    "collapsed": true
   },
   "outputs": [],
   "source": []
  }
 ],
 "metadata": {
  "kernelspec": {
   "display_name": "Python 3",
   "language": "python",
   "name": "python3"
  },
  "language_info": {
   "codemirror_mode": {
    "name": "ipython",
    "version": 3
   },
   "file_extension": ".py",
   "mimetype": "text/x-python",
   "name": "python",
   "nbconvert_exporter": "python",
   "pygments_lexer": "ipython3",
   "version": "3.6.1"
  }
 },
 "nbformat": 4,
 "nbformat_minor": 2
}
