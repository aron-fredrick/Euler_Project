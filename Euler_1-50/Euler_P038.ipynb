{
 "cells": [
  {
   "cell_type": "code",
   "execution_count": 9,
   "metadata": {
    "collapsed": true
   },
   "outputs": [],
   "source": [
    "pd_max = 123456789\n",
    "N = 1\n",
    "ix = N\n",
    "\n",
    "while len(str(N*1)+str(N*2))<10:\n",
    "    digits = ['1','2','3','4','5','6','7','8','9']\n",
    "    mult = 3\n",
    "    pandig = str(N*1)+str(N*2)\n",
    "    isPandig = True\n",
    "    while len(pandig)<9:\n",
    "        pandig = pandig +str(N*mult)\n",
    "        mult+=1\n",
    "    if len(pandig)==9:\n",
    "        for num in pandig:\n",
    "            if num not in digits:\n",
    "                isPandig = False\n",
    "                break\n",
    "            digits.remove(num)\n",
    "        if isPandig:\n",
    "            if int(pandig)>pd_max:\n",
    "                pd_max = int(pandig)\n",
    "                ix = N\n",
    "    N += 1"
   ]
  },
  {
   "cell_type": "code",
   "execution_count": 7,
   "metadata": {},
   "outputs": [
    {
     "data": {
      "text/plain": [
       "932718654"
      ]
     },
     "execution_count": 7,
     "metadata": {},
     "output_type": "execute_result"
    }
   ],
   "source": [
    "pd_max"
   ]
  },
  {
   "cell_type": "code",
   "execution_count": 10,
   "metadata": {},
   "outputs": [
    {
     "data": {
      "text/plain": [
       "9327"
      ]
     },
     "execution_count": 10,
     "metadata": {},
     "output_type": "execute_result"
    }
   ],
   "source": [
    "ix"
   ]
  },
  {
   "cell_type": "code",
   "execution_count": 5,
   "metadata": {},
   "outputs": [
    {
     "data": {
      "text/plain": [
       "['1', '2', '3', '5', '6', '7', '8']"
      ]
     },
     "execution_count": 5,
     "metadata": {},
     "output_type": "execute_result"
    }
   ],
   "source": [
    "digits"
   ]
  },
  {
   "cell_type": "code",
   "execution_count": null,
   "metadata": {
    "collapsed": true
   },
   "outputs": [],
   "source": []
  }
 ],
 "metadata": {
  "kernelspec": {
   "display_name": "Python 3",
   "language": "python",
   "name": "python3"
  },
  "language_info": {
   "codemirror_mode": {
    "name": "ipython",
    "version": 3
   },
   "file_extension": ".py",
   "mimetype": "text/x-python",
   "name": "python",
   "nbconvert_exporter": "python",
   "pygments_lexer": "ipython3",
   "version": "3.6.1"
  }
 },
 "nbformat": 4,
 "nbformat_minor": 2
}
