{
 "cells": [
  {
   "cell_type": "code",
   "execution_count": 8,
   "metadata": {
    "collapsed": true
   },
   "outputs": [],
   "source": [
    "def tri_num(n):\n",
    "    return n*(n+1)/2\n",
    "\n",
    "def ispoly(n):\n",
    "    r = (1+math.sqrt(1+24*n))/6\n",
    "    if r%1==0:\n",
    "        return True\n",
    "    return False\n",
    "\n",
    "def ishex(n):\n",
    "    r = (1+math.sqrt(1+8*n))/4\n",
    "    if r%1==0:\n",
    "        return True\n",
    "    return False"
   ]
  },
  {
   "cell_type": "code",
   "execution_count": 2,
   "metadata": {},
   "outputs": [],
   "source": [
    "import math"
   ]
  },
  {
   "cell_type": "code",
   "execution_count": 9,
   "metadata": {},
   "outputs": [
    {
     "name": "stdout",
     "output_type": "stream",
     "text": [
      "1533776805.0\n"
     ]
    }
   ],
   "source": [
    "n = 285\n",
    "poly = False\n",
    "hexi = False\n",
    "\n",
    "while not (poly and hexi):\n",
    "    n+=1\n",
    "    poly = False\n",
    "    hexi = False\n",
    "    tri = tri_num(n)\n",
    "    if ispoly(tri):\n",
    "        poly = True\n",
    "    if ishex(tri):\n",
    "        hexi = True\n",
    "print(tri_num(n))\n",
    "        \n"
   ]
  },
  {
   "cell_type": "code",
   "execution_count": 10,
   "metadata": {},
   "outputs": [
    {
     "data": {
      "text/plain": [
       "55385"
      ]
     },
     "execution_count": 10,
     "metadata": {},
     "output_type": "execute_result"
    }
   ],
   "source": [
    "n"
   ]
  },
  {
   "cell_type": "code",
   "execution_count": null,
   "metadata": {
    "collapsed": true
   },
   "outputs": [],
   "source": []
  }
 ],
 "metadata": {
  "kernelspec": {
   "display_name": "Python 3",
   "language": "python",
   "name": "python3"
  },
  "language_info": {
   "codemirror_mode": {
    "name": "ipython",
    "version": 3
   },
   "file_extension": ".py",
   "mimetype": "text/x-python",
   "name": "python",
   "nbconvert_exporter": "python",
   "pygments_lexer": "ipython3",
   "version": "3.6.1"
  }
 },
 "nbformat": 4,
 "nbformat_minor": 2
}
