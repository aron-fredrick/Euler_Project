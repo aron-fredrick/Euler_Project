{
 "cells": [
  {
   "cell_type": "code",
   "execution_count": 2,
   "metadata": {},
   "outputs": [],
   "source": [
    "letters_dict = {\n",
    "    'a':1,\n",
    "    'b':2,\n",
    "    'c':3,\n",
    "    'd':4,\n",
    "    'e':5,\n",
    "    'f':6,\n",
    "    'g':7,\n",
    "    'h':8,\n",
    "    'i':9,\n",
    "    'j':10,\n",
    "    'k':11,\n",
    "    'l':12,\n",
    "    'm':13,\n",
    "    'n':14,\n",
    "    'o':15,\n",
    "    'p':16,\n",
    "    'q':17,\n",
    "    'r':18,\n",
    "    's':19,\n",
    "    't':20,\n",
    "    'u':21,\n",
    "    'v':22,\n",
    "    'w':23,\n",
    "    'x':24,\n",
    "    'y':25,\n",
    "    'z':26\n",
    "}"
   ]
  },
  {
   "cell_type": "code",
   "execution_count": 44,
   "metadata": {},
   "outputs": [],
   "source": [
    "infile = open('euler_p22.txt','r')\n",
    "\n",
    "unsorted_file = infile.readlines()\n",
    "unsorted_list = unsorted_file[0].split(\",\")\n",
    "\n",
    "for ii in range(0,len(unsorted_list)):\n",
    "    unsorted_list[ii] = unsorted_list[ii].strip('\"')\n",
    "    unsorted_list[ii] = unsorted_list[ii].lower()\n",
    "\n",
    "sorted_list = [unsorted_list[0]]\n",
    "\n",
    "for jj in range(1,len(unsorted_list)):\n",
    "    name = unsorted_list[jj]\n",
    "    \n",
    "    index = 0\n",
    "    while index<len(sorted_list):\n",
    "        if name<sorted_list[index]:\n",
    "            break\n",
    "        index = index + 1\n",
    "    \n",
    "    sorted_list.insert(index,name)\n",
    "    \n",
    "total_name_score = 0    \n",
    "for kk in range(0,len(sorted_list)):\n",
    "    name_score = 0\n",
    "    for letter in sorted_list[kk]:\n",
    "        name_score = name_score + letters_dict[letter]\n",
    "    \n",
    "    name_score = name_score*(kk+1)\n",
    "    total_name_score = total_name_score + name_score\n",
    "\n",
    "\n",
    "infile.close()"
   ]
  },
  {
   "cell_type": "code",
   "execution_count": 45,
   "metadata": {},
   "outputs": [
    {
     "data": {
      "text/plain": [
       "871198282"
      ]
     },
     "execution_count": 45,
     "metadata": {},
     "output_type": "execute_result"
    }
   ],
   "source": [
    "total_name_score"
   ]
  },
  {
   "cell_type": "code",
   "execution_count": 37,
   "metadata": {
    "collapsed": true
   },
   "outputs": [],
   "source": [
    "test = [1]"
   ]
  },
  {
   "cell_type": "code",
   "execution_count": 38,
   "metadata": {
    "collapsed": true
   },
   "outputs": [],
   "source": [
    "test.insert(1,2)"
   ]
  },
  {
   "cell_type": "code",
   "execution_count": 39,
   "metadata": {},
   "outputs": [
    {
     "data": {
      "text/plain": [
       "[1, 2]"
      ]
     },
     "execution_count": 39,
     "metadata": {},
     "output_type": "execute_result"
    }
   ],
   "source": [
    "test"
   ]
  },
  {
   "cell_type": "code",
   "execution_count": 40,
   "metadata": {
    "collapsed": true
   },
   "outputs": [],
   "source": [
    "test.insert(5,4)"
   ]
  },
  {
   "cell_type": "code",
   "execution_count": 41,
   "metadata": {},
   "outputs": [
    {
     "data": {
      "text/plain": [
       "[1, 2, 4]"
      ]
     },
     "execution_count": 41,
     "metadata": {},
     "output_type": "execute_result"
    }
   ],
   "source": [
    "test"
   ]
  },
  {
   "cell_type": "code",
   "execution_count": null,
   "metadata": {
    "collapsed": true
   },
   "outputs": [],
   "source": []
  }
 ],
 "metadata": {
  "kernelspec": {
   "display_name": "Python 3",
   "language": "python",
   "name": "python3"
  },
  "language_info": {
   "codemirror_mode": {
    "name": "ipython",
    "version": 3
   },
   "file_extension": ".py",
   "mimetype": "text/x-python",
   "name": "python",
   "nbconvert_exporter": "python",
   "pygments_lexer": "ipython3",
   "version": "3.6.1"
  }
 },
 "nbformat": 4,
 "nbformat_minor": 2
}
