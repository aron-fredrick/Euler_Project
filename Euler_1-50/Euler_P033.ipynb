{
 "cells": [
  {
   "cell_type": "code",
   "execution_count": 5,
   "metadata": {},
   "outputs": [],
   "source": [
    "fractions = []\n",
    "\n",
    "for den in range(12,100):\n",
    "    \n",
    "    if den%10 != 0:\n",
    "        \n",
    "        for num in range(den-1,10,-1):\n",
    "            \n",
    "            if num%10 !=0:\n",
    "                \n",
    "                den_str = str(den)\n",
    "                num_str = str(num)\n",
    "                \n",
    "                for dig in num_str:\n",
    "                    \n",
    "                    if dig in den_str:\n",
    "                        \n",
    "                        den_index = (den_str.index(dig)+1)%2\n",
    "                        num_index = (num_str.index(dig)+1)%2\n",
    "                        \n",
    "                        den_new = int(den_str[den_index])\n",
    "                        num_new = int(num_str[num_index])\n",
    "                        \n",
    "                        if num/den == num_new/den_new:\n",
    "                            \n",
    "                            fractions.append([num,den])\n",
    "                        "
   ]
  },
  {
   "cell_type": "code",
   "execution_count": 6,
   "metadata": {},
   "outputs": [
    {
     "data": {
      "text/plain": [
       "[[16, 64], [26, 65], [19, 95], [49, 98]]"
      ]
     },
     "execution_count": 6,
     "metadata": {},
     "output_type": "execute_result"
    }
   ],
   "source": []
  },
  {
   "cell_type": "code",
   "execution_count": null,
   "metadata": {
    "collapsed": true
   },
   "outputs": [],
   "source": []
  }
 ],
 "metadata": {
  "kernelspec": {
   "display_name": "Python 3",
   "language": "python",
   "name": "python3"
  },
  "language_info": {
   "codemirror_mode": {
    "name": "ipython",
    "version": 3
   },
   "file_extension": ".py",
   "mimetype": "text/x-python",
   "name": "python",
   "nbconvert_exporter": "python",
   "pygments_lexer": "ipython3",
   "version": "3.6.1"
  }
 },
 "nbformat": 4,
 "nbformat_minor": 2
}
