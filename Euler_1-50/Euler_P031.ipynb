{
 "cells": [
  {
   "cell_type": "code",
   "execution_count": 25,
   "metadata": {},
   "outputs": [
    {
     "name": "stdout",
     "output_type": "stream",
     "text": [
      "73682\n"
     ]
    }
   ],
   "source": [
    "from math import floor\n",
    "total_money = 200\n",
    "coins = [200,100,50,20,10,5,2,1]\n",
    "combs = 0\n",
    "for ii in range (int(floor(total_money/coins[0])),-1,-1):\n",
    "    money1 = total_money-ii*coins[0]\n",
    "    for jj in range(int(floor(money1/coins[1])),-1,-1):\n",
    "        money2 = money1-jj*coins[1]\n",
    "        for kk in range(int(floor(money2/coins[2])),-1,-1):\n",
    "            money3 = money2-kk*coins[2]\n",
    "            for ll in range(int(floor(money3/coins[3])),-1,-1):\n",
    "                money4 = money3-ll*coins[3]\n",
    "                for mm in range(int(floor(money4/coins[4])),-1,-1):\n",
    "                    money5 = money4-mm*coins[4]\n",
    "                    for nn in range(int(floor(money5/coins[5])),-1,-1):\n",
    "                        money6 = money5-nn*coins[5]\n",
    "                        for oo in range(int(floor(money6/coins[6])),-1,-1):\n",
    "                            money7 = money6-oo*coins[6]\n",
    "                            combs+=1\n",
    "print(combs)"
   ]
  },
  {
   "cell_type": "code",
   "execution_count": 15,
   "metadata": {},
   "outputs": [
    {
     "data": {
      "text/plain": [
       "70407"
      ]
     },
     "execution_count": 15,
     "metadata": {},
     "output_type": "execute_result"
    }
   ],
   "source": [
    "combs"
   ]
  },
  {
   "cell_type": "code",
   "execution_count": null,
   "metadata": {
    "collapsed": true
   },
   "outputs": [],
   "source": []
  }
 ],
 "metadata": {
  "kernelspec": {
   "display_name": "Python 3",
   "language": "python",
   "name": "python3"
  },
  "language_info": {
   "codemirror_mode": {
    "name": "ipython",
    "version": 3
   },
   "file_extension": ".py",
   "mimetype": "text/x-python",
   "name": "python",
   "nbconvert_exporter": "python",
   "pygments_lexer": "ipython3",
   "version": "3.6.1"
  }
 },
 "nbformat": 4,
 "nbformat_minor": 2
}
