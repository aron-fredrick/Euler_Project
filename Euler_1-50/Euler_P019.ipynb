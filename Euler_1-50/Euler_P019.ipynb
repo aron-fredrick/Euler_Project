{
 "cells": [
  {
   "cell_type": "code",
   "execution_count": 5,
   "metadata": {},
   "outputs": [],
   "source": [
    "import numpy as np\n",
    "\n",
    "years = [31 , 28, 31 , 30, 31 , 30 , 31 , 31 , 30 , 31, 30 , 31]\n",
    "leap_years = [31 , 29, 31 , 30, 31 , 30 , 31 , 31 , 30 , 31, 30 , 31]\n",
    "\n",
    "sunday_count = 0\n",
    "day = 1\n",
    "\n",
    "# loop through first year, doesn't count\n",
    "year = 1900\n",
    "leap = False\n",
    "\n",
    "if year%4 == 0:\n",
    "    leap = True\n",
    "if year%100 == 0:\n",
    "    leap = False\n",
    "if year%400 == 0:\n",
    "    leap = True\n",
    "    \n",
    "if leap:\n",
    "    this_year = leap_years\n",
    "else:\n",
    "    this_year = years\n",
    "    \n",
    "    \n",
    "day = (sum(this_year)%7+day)%7\n",
    "\n",
    "if day==0:\n",
    "    sunday_count = sunday_count+1\n",
    "\n",
    "for year in range(1901,2001):\n",
    "    leap = False\n",
    "\n",
    "    if year%4 == 0:\n",
    "        leap = True\n",
    "    if year%100 == 0:\n",
    "        leap = False\n",
    "    if year%400 == 0:\n",
    "        leap = True\n",
    "\n",
    "    if leap:\n",
    "        this_year = leap_years\n",
    "    else:\n",
    "        this_year = years\n",
    "        \n",
    "    for month in range(0,12):\n",
    "        day = (day + this_year[month])%7\n",
    "        \n",
    "        if day == 0:\n",
    "            sunday_count = sunday_count+1\n",
    "\n",
    "if day ==0:\n",
    "    sunday_count = sunday_count-1\n",
    "        \n",
    "    \n",
    "    "
   ]
  },
  {
   "cell_type": "code",
   "execution_count": 6,
   "metadata": {},
   "outputs": [
    {
     "data": {
      "text/plain": [
       "1"
      ]
     },
     "execution_count": 6,
     "metadata": {},
     "output_type": "execute_result"
    }
   ],
   "source": [
    "day"
   ]
  },
  {
   "cell_type": "code",
   "execution_count": 7,
   "metadata": {},
   "outputs": [
    {
     "data": {
      "text/plain": [
       "171"
      ]
     },
     "execution_count": 7,
     "metadata": {},
     "output_type": "execute_result"
    }
   ],
   "source": [
    "sunday_count"
   ]
  },
  {
   "cell_type": "code",
   "execution_count": 8,
   "metadata": {},
   "outputs": [
    {
     "data": {
      "text/plain": [
       "2000"
      ]
     },
     "execution_count": 8,
     "metadata": {},
     "output_type": "execute_result"
    }
   ],
   "source": [
    "year"
   ]
  },
  {
   "cell_type": "code",
   "execution_count": 9,
   "metadata": {},
   "outputs": [
    {
     "data": {
      "text/plain": [
       "11"
      ]
     },
     "execution_count": 9,
     "metadata": {},
     "output_type": "execute_result"
    }
   ],
   "source": [
    "month"
   ]
  },
  {
   "cell_type": "code",
   "execution_count": null,
   "metadata": {
    "collapsed": true
   },
   "outputs": [],
   "source": []
  }
 ],
 "metadata": {
  "kernelspec": {
   "display_name": "Python 3",
   "language": "python",
   "name": "python3"
  },
  "language_info": {
   "codemirror_mode": {
    "name": "ipython",
    "version": 3
   },
   "file_extension": ".py",
   "mimetype": "text/x-python",
   "name": "python",
   "nbconvert_exporter": "python",
   "pygments_lexer": "ipython3",
   "version": "3.6.1"
  }
 },
 "nbformat": 4,
 "nbformat_minor": 2
}
