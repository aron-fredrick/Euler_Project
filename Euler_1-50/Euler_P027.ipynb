{
 "cells": [
  {
   "cell_type": "code",
   "execution_count": 7,
   "metadata": {},
   "outputs": [],
   "source": [
    "import numpy as np\n",
    "'''\n",
    "def isprime(n):\n",
    "    prime = True\n",
    "    if n>=2:\n",
    "        \n",
    "        for ii in range(2,int(np.ceil(np.sqrt(n)))):\n",
    "            if n%ii == 0:\n",
    "                prime = False\n",
    "                break\n",
    "    else:\n",
    "        prime = False\n",
    "    return prime\n",
    "'''\n",
    "from utils.Useful_Functions import isprime"
   ]
  },
  {
   "cell_type": "code",
   "execution_count": 5,
   "metadata": {},
   "outputs": [],
   "source": [
    "prime_numbers = [2]\n",
    "prime_factors = []\n",
    "test = True\n",
    "N = 3\n",
    "N_max = 1000\n",
    "\n",
    "while prime_numbers[-1] < N_max:\n",
    "    isprime = True\n",
    "    for prime in prime_numbers:\n",
    "        if N%prime == 0:\n",
    "            isprime = False\n",
    "            break\n",
    "    if isprime:\n",
    "        if N > N_max:\n",
    "            break\n",
    "        prime_numbers.append(N)\n",
    "    N = N + 2"
   ]
  },
  {
   "cell_type": "code",
   "execution_count": 8,
   "metadata": {},
   "outputs": [],
   "source": [
    "longest_chain = 39\n",
    "\n",
    "for b in prime_numbers:\n",
    "    for a in range(-(b+1),1000):\n",
    "        chain_length = 1\n",
    "        n = 0\n",
    "        still_chaining = True\n",
    "        while still_chaining:\n",
    "            n = n+1\n",
    "            p = n*n+a*n+b\n",
    "            test_p = isprime(p)\n",
    "            if test_p:\n",
    "                chain_length = chain_length + 1\n",
    "            else:\n",
    "                still_chaining = False\n",
    "        if chain_length > longest_chain:\n",
    "            longest_chain = chain_length\n",
    "            prod = [a,b,a*b]\n",
    "            "
   ]
  },
  {
   "cell_type": "code",
   "execution_count": 9,
   "metadata": {},
   "outputs": [
    {
     "data": {
      "text/plain": [
       "[-61, 971, -59231]"
      ]
     },
     "execution_count": 9,
     "metadata": {},
     "output_type": "execute_result"
    }
   ],
   "source": [
    "prod"
   ]
  },
  {
   "cell_type": "code",
   "execution_count": 21,
   "metadata": {},
   "outputs": [
    {
     "data": {
      "text/plain": [
       "72"
      ]
     },
     "execution_count": 21,
     "metadata": {},
     "output_type": "execute_result"
    }
   ],
   "source": [
    "longest_chain"
   ]
  },
  {
   "cell_type": "code",
   "execution_count": null,
   "metadata": {
    "collapsed": true
   },
   "outputs": [],
   "source": []
  }
 ],
 "metadata": {
  "kernelspec": {
   "display_name": "Python 3",
   "language": "python",
   "name": "python3"
  },
  "language_info": {
   "codemirror_mode": {
    "name": "ipython",
    "version": 3
   },
   "file_extension": ".py",
   "mimetype": "text/x-python",
   "name": "python",
   "nbconvert_exporter": "python",
   "pygments_lexer": "ipython3",
   "version": "3.7.4"
  }
 },
 "nbformat": 4,
 "nbformat_minor": 2
}
