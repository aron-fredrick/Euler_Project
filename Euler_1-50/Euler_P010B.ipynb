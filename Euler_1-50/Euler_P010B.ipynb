{
 "cells": [
  {
   "cell_type": "code",
   "execution_count": 59,
   "metadata": {
    "collapsed": true
   },
   "outputs": [],
   "source": [
    "import numpy as np\n",
    "import time\n",
    "\n",
    "prime_list1 = list(range(3,2*pow(10,6),2))\n",
    "\n",
    "prime_list = [2] + prime_list1\n"
   ]
  },
  {
   "cell_type": "code",
   "execution_count": null,
   "metadata": {},
   "outputs": [],
   "source": [
    "start = time.time()\n",
    "index = 1\n",
    "while index < len(prime_list)-1:\n",
    "    prime = prime_list[index]\n",
    "    \n",
    "    for jj in range(2*prime,2*pow(10,6),prime):\n",
    "        if jj in prime_list:\n",
    "            prime_list.remove(jj)\n",
    "        \n",
    "    index = index+1\n",
    "  \n",
    "prime_sum = sum(prime_numbers)\n",
    "end = time.time()\n",
    "print(f'The value of the sum = {prime_sum} and it took {end - start} seconds')     "
   ]
  }
 ],
 "metadata": {
  "kernelspec": {
   "display_name": "Python 3",
   "language": "python",
   "name": "python3"
  },
  "language_info": {
   "codemirror_mode": {
    "name": "ipython",
    "version": 3
   },
   "file_extension": ".py",
   "mimetype": "text/x-python",
   "name": "python",
   "nbconvert_exporter": "python",
   "pygments_lexer": "ipython3",
   "version": "3.6.1"
  }
 },
 "nbformat": 4,
 "nbformat_minor": 2
}
