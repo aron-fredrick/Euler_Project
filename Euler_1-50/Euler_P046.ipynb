{
 "cells": [
  {
   "cell_type": "code",
   "execution_count": 3,
   "metadata": {
    "collapsed": true
   },
   "outputs": [],
   "source": [
    "def next_prime(prime_numbers = []):\n",
    "    if len(prime_numbers)<=1:\n",
    "        prime_numbers = [2]\n",
    "        N = 3\n",
    "    else:\n",
    "        N = prime_numbers[-1]+2\n",
    "    test = True\n",
    "    assert N%2 == 1\n",
    "        \n",
    "    \n",
    "    while test:\n",
    "        isprime = True\n",
    "        for prime in prime_numbers:\n",
    "            if N%prime == 0:\n",
    "                isprime = False\n",
    "                break\n",
    "        if isprime:\n",
    "            prime_numbers.append(N)\n",
    "            test = False\n",
    "        N = N + 2\n",
    "    return prime_numbers"
   ]
  },
  {
   "cell_type": "code",
   "execution_count": 6,
   "metadata": {
    "collapsed": true
   },
   "outputs": [],
   "source": [
    "def isprime(n):\n",
    "    import numpy as np\n",
    "    prime = True\n",
    "    if n>=2:\n",
    "        \n",
    "        for ii in range(2,int(np.ceil(np.sqrt(n)))):\n",
    "            if n%ii == 0:\n",
    "                prime = False\n",
    "                break\n",
    "    else:\n",
    "        prime = False\n",
    "    return prime"
   ]
  },
  {
   "cell_type": "code",
   "execution_count": 7,
   "metadata": {
    "collapsed": true
   },
   "outputs": [],
   "source": [
    "prime_list = next_prime()"
   ]
  },
  {
   "cell_type": "code",
   "execution_count": 8,
   "metadata": {},
   "outputs": [
    {
     "data": {
      "text/plain": [
       "[2, 3]"
      ]
     },
     "execution_count": 8,
     "metadata": {},
     "output_type": "execute_result"
    }
   ],
   "source": [
    "prime_list"
   ]
  },
  {
   "cell_type": "code",
   "execution_count": 9,
   "metadata": {
    "collapsed": true
   },
   "outputs": [],
   "source": [
    "import math"
   ]
  },
  {
   "cell_type": "code",
   "execution_count": 11,
   "metadata": {
    "collapsed": true
   },
   "outputs": [],
   "source": [
    "n = 33\n",
    "\n",
    "condition = True\n",
    "\n",
    "while condition:\n",
    "    condition = False\n",
    "    n = n+2\n",
    "    \n",
    "    while prime_list[-1] < n:\n",
    "        prime_list = next_prime(prime_list)\n",
    "        \n",
    "    for prime in prime_list:\n",
    "        if n >= prime:\n",
    "            n1 = (n - prime)/2\n",
    "            if math.sqrt(n1)%1 == 0:\n",
    "                condition = True\n",
    "                break\n",
    "            "
   ]
  },
  {
   "cell_type": "code",
   "execution_count": 12,
   "metadata": {},
   "outputs": [
    {
     "data": {
      "text/plain": [
       "5777"
      ]
     },
     "execution_count": 12,
     "metadata": {},
     "output_type": "execute_result"
    }
   ],
   "source": [
    "n"
   ]
  },
  {
   "cell_type": "code",
   "execution_count": null,
   "metadata": {
    "collapsed": true
   },
   "outputs": [],
   "source": []
  }
 ],
 "metadata": {
  "kernelspec": {
   "display_name": "Python 3",
   "language": "python",
   "name": "python3"
  },
  "language_info": {
   "codemirror_mode": {
    "name": "ipython",
    "version": 3
   },
   "file_extension": ".py",
   "mimetype": "text/x-python",
   "name": "python",
   "nbconvert_exporter": "python",
   "pygments_lexer": "ipython3",
   "version": "3.6.1"
  }
 },
 "nbformat": 4,
 "nbformat_minor": 2
}
