{
 "cells": [
  {
   "cell_type": "code",
   "execution_count": 3,
   "metadata": {
    "collapsed": true
   },
   "outputs": [],
   "source": [
    "def next_prime(prime_numbers = []):\n",
    "    if len(prime_numbers)<=1:\n",
    "        prime_numbers = [2]\n",
    "        N = 3\n",
    "    else:\n",
    "        N = prime_numbers[-1]+2\n",
    "    test = True\n",
    "    assert N%2 == 1\n",
    "        \n",
    "    \n",
    "    while test:\n",
    "        isprime = True\n",
    "        for prime in prime_numbers:\n",
    "            if N%prime == 0:\n",
    "                isprime = False\n",
    "                break\n",
    "        if isprime:\n",
    "            prime_numbers.append(N)\n",
    "            test = False\n",
    "        N = N + 2\n",
    "    return prime_numbers"
   ]
  },
  {
   "cell_type": "code",
   "execution_count": 17,
   "metadata": {},
   "outputs": [],
   "source": [
    "trun_primes = []\n",
    "\n",
    "primes = next_prime()\n",
    "\n",
    "while primes[-1]<20:\n",
    "    primes = next_prime(primes)\n",
    "    \n",
    "while len(trun_primes)<11:\n",
    "    test_prime = str(primes[-1])\n",
    "    trunc = True\n",
    "    for ii in range(1,len(test_prime)):\n",
    "        if int(test_prime[0:len(test_prime)-ii]) not in primes:\n",
    "            trunc = False\n",
    "            break\n",
    "        if int(test_prime[ii:len(test_prime)]) not in primes:\n",
    "            trunc = False\n",
    "            break\n",
    "    if trunc:\n",
    "        trun_primes.append(primes[-1])\n",
    "    primes = next_prime(primes)\n"
   ]
  },
  {
   "cell_type": "code",
   "execution_count": 18,
   "metadata": {},
   "outputs": [
    {
     "data": {
      "text/plain": [
       "[23, 37, 53, 73, 313, 317, 373, 797, 3137, 3797, 739397]"
      ]
     },
     "execution_count": 18,
     "metadata": {},
     "output_type": "execute_result"
    }
   ],
   "source": [
    "trun_primes"
   ]
  },
  {
   "cell_type": "code",
   "execution_count": 19,
   "metadata": {},
   "outputs": [
    {
     "data": {
      "text/plain": [
       "748317"
      ]
     },
     "execution_count": 19,
     "metadata": {},
     "output_type": "execute_result"
    }
   ],
   "source": [
    "sum(trun_primes)"
   ]
  },
  {
   "cell_type": "code",
   "execution_count": 16,
   "metadata": {},
   "outputs": [
    {
     "data": {
      "text/plain": [
       "'3'"
      ]
     },
     "execution_count": 16,
     "metadata": {},
     "output_type": "execute_result"
    }
   ],
   "source": [
    "test_prime[1::]"
   ]
  },
  {
   "cell_type": "code",
   "execution_count": null,
   "metadata": {
    "collapsed": true
   },
   "outputs": [],
   "source": []
  }
 ],
 "metadata": {
  "kernelspec": {
   "display_name": "Python 3",
   "language": "python",
   "name": "python3"
  },
  "language_info": {
   "codemirror_mode": {
    "name": "ipython",
    "version": 3
   },
   "file_extension": ".py",
   "mimetype": "text/x-python",
   "name": "python",
   "nbconvert_exporter": "python",
   "pygments_lexer": "ipython3",
   "version": "3.6.1"
  }
 },
 "nbformat": 4,
 "nbformat_minor": 2
}
