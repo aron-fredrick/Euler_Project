{
 "cells": [
  {
   "cell_type": "code",
   "execution_count": 1,
   "metadata": {
    "collapsed": true
   },
   "outputs": [],
   "source": [
    "def primes(N_max):\n",
    "    prime_numbers = [2]\n",
    "    test = True\n",
    "    N = 3\n",
    "    \n",
    "    while prime_numbers[-1] < N_max:\n",
    "        isprime = True\n",
    "        for prime in prime_numbers:\n",
    "            if N%prime == 0:\n",
    "                isprime = False\n",
    "                break\n",
    "        if isprime:\n",
    "            if N > N_max:\n",
    "                break\n",
    "            prime_numbers.append(N)\n",
    "        N = N + 2\n",
    "    return prime_numbers"
   ]
  },
  {
   "cell_type": "code",
   "execution_count": 2,
   "metadata": {
    "collapsed": true
   },
   "outputs": [],
   "source": []
  },
  {
   "cell_type": "code",
   "execution_count": 14,
   "metadata": {},
   "outputs": [],
   "source": [
    "infile = open('primes_p35.txt','w')\n",
    "\n",
    "for prime in prime_numbers:\n",
    "    infile.write(str(prime)+'\\n')\n",
    "\n",
    "infile.close()"
   ]
  },
  {
   "cell_type": "code",
   "execution_count": 27,
   "metadata": {
    "collapsed": true
   },
   "outputs": [],
   "source": [
    "circular_primes = []\n",
    "\n",
    "index = 0\n",
    "\n",
    "while index < len(prime_numbers)-1:\n",
    "    \n",
    "    prime = prime_numbers[index]\n",
    "    \n",
    "    if prime<10:\n",
    "        circular_primes.append(prime)\n",
    "    else:\n",
    "        \n",
    "        isCircle = True\n",
    "        prime_str = str(prime)\n",
    "        new_prime = prime\n",
    "        \n",
    "        for ii in range(0,len(prime_str)):\n",
    "            new_prime = prime_str[1:len(prime_str)]+prime_str[0]\n",
    "            prime_str = new_prime\n",
    "            \n",
    "            if '0' in prime_str:\n",
    "                isCircle = False\n",
    "                break\n",
    "            \n",
    "            if int(new_prime) not in prime_numbers:\n",
    "                isCircle = False\n",
    "                break\n",
    "        \n",
    "        if isCircle:\n",
    "            circular_primes.append(prime)\n",
    "    \n",
    "    index = index+1\n",
    "            \n",
    "        \n",
    "        "
   ]
  },
  {
   "cell_type": "code",
   "execution_count": 29,
   "metadata": {},
   "outputs": [
    {
     "data": {
      "text/plain": [
       "55"
      ]
     },
     "execution_count": 29,
     "metadata": {},
     "output_type": "execute_result"
    }
   ],
   "source": [
    "len(circular_primes)"
   ]
  },
  {
   "cell_type": "code",
   "execution_count": null,
   "metadata": {},
   "outputs": [],
   "source": []
  },
  {
   "cell_type": "code",
   "execution_count": null,
   "metadata": {},
   "outputs": [],
   "source": []
  },
  {
   "cell_type": "code",
   "execution_count": null,
   "metadata": {},
   "outputs": [],
   "source": []
  },
  {
   "cell_type": "code",
   "execution_count": null,
   "metadata": {
    "collapsed": true
   },
   "outputs": [],
   "source": []
  },
  {
   "cell_type": "code",
   "execution_count": null,
   "metadata": {},
   "outputs": [],
   "source": []
  },
  {
   "cell_type": "code",
   "execution_count": null,
   "metadata": {
    "collapsed": true
   },
   "outputs": [],
   "source": []
  }
 ],
 "metadata": {
  "kernelspec": {
   "display_name": "Python 3",
   "language": "python",
   "name": "python3"
  },
  "language_info": {
   "codemirror_mode": {
    "name": "ipython",
    "version": 3
   },
   "file_extension": ".py",
   "mimetype": "text/x-python",
   "name": "python",
   "nbconvert_exporter": "python",
   "pygments_lexer": "ipython3",
   "version": "3.6.1"
  }
 },
 "nbformat": 4,
 "nbformat_minor": 2
}
