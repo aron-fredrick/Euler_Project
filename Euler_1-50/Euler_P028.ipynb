{
 "cells": [
  {
   "cell_type": "code",
   "execution_count": 1,
   "metadata": {
    "collapsed": true
   },
   "outputs": [],
   "source": [
    "import numpy as np\n",
    "\n",
    "gsize = 1001\n",
    "assert gsize%2 == 1 , 'Need grid size to be odd'\n",
    "row = int((gsize-1)/2)\n",
    "col = int((gsize-1)/2)\n",
    "A = np.zeros((gsize,gsize))\n",
    "n = 1\n",
    "dir_n = 1\n",
    "\n",
    "\n",
    "A[row,col] = n\n",
    "while (row,col) != (0,gsize-1):\n",
    "    for ii in range(1,dir_n+1):\n",
    "        n = n+1\n",
    "        col = col + 1\n",
    "        A[row,col] = n\n",
    "        if (row,col) == (0,gsize-1):\n",
    "            break\n",
    "    if (row,col) == (0,gsize-1):\n",
    "        break\n",
    "    for ii in range(1,dir_n+1):\n",
    "        n = n+1\n",
    "        row = row + 1\n",
    "        A[row,col] = n\n",
    "    dir_n = dir_n + 1\n",
    "    \n",
    "    for ii in range(1,dir_n+1):\n",
    "        n = n+1\n",
    "        col = col - 1\n",
    "        A[row,col] = n\n",
    "    for ii in range(1,dir_n+1):\n",
    "        n = n+1\n",
    "        row = row - 1\n",
    "        A[row,col] = n\n",
    "        \n",
    "    dir_n = dir_n + 1\n",
    "diag_sum = -1\n",
    "for ii in range(0,gsize):\n",
    "    diag_sum = diag_sum+A[ii,ii]\n",
    "    diag_sum = diag_sum+A[gsize-1-ii,ii]"
   ]
  },
  {
   "cell_type": "code",
   "execution_count": 36,
   "metadata": {},
   "outputs": [
    {
     "data": {
      "text/plain": [
       "669171001.0"
      ]
     },
     "execution_count": 36,
     "metadata": {},
     "output_type": "execute_result"
    }
   ],
   "source": [
    "diag_sum"
   ]
  },
  {
   "cell_type": "code",
   "execution_count": 2,
   "metadata": {},
   "outputs": [
    {
     "data": {
      "text/plain": [
       "array([[ 43.,  44.,  45.,  46.,  47.,  48.,  49.],\n",
       "       [ 42.,  21.,  22.,  23.,  24.,  25.,  26.],\n",
       "       [ 41.,  20.,   7.,   8.,   9.,  10.,  27.],\n",
       "       [ 40.,  19.,   6.,   1.,   2.,  11.,  28.],\n",
       "       [ 39.,  18.,   5.,   4.,   3.,  12.,  29.],\n",
       "       [ 38.,  17.,  16.,  15.,  14.,  13.,  30.],\n",
       "       [ 37.,  36.,  35.,  34.,  33.,  32.,  31.]])"
      ]
     },
     "execution_count": 2,
     "metadata": {},
     "output_type": "execute_result"
    }
   ],
   "source": [
    "A"
   ]
  },
  {
   "cell_type": "code",
   "execution_count": 12,
   "metadata": {},
   "outputs": [
    {
     "name": "stdout",
     "output_type": "stream",
     "text": [
      "1\n"
     ]
    }
   ],
   "source": [
    "for ii in range(1,2):\n",
    "    print(ii)"
   ]
  },
  {
   "cell_type": "code",
   "execution_count": null,
   "metadata": {
    "collapsed": true
   },
   "outputs": [],
   "source": []
  }
 ],
 "metadata": {
  "kernelspec": {
   "display_name": "Python 3",
   "language": "python",
   "name": "python3"
  },
  "language_info": {
   "codemirror_mode": {
    "name": "ipython",
    "version": 3
   },
   "file_extension": ".py",
   "mimetype": "text/x-python",
   "name": "python",
   "nbconvert_exporter": "python",
   "pygments_lexer": "ipython3",
   "version": "3.6.1"
  }
 },
 "nbformat": 4,
 "nbformat_minor": 2
}
