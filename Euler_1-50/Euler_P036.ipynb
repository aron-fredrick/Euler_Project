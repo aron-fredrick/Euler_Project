{
 "cells": [
  {
   "cell_type": "code",
   "execution_count": 1,
   "metadata": {
    "collapsed": true
   },
   "outputs": [],
   "source": [
    "def isPalindrome(inString):\n",
    "    import math\n",
    "    answer = True\n",
    "    \n",
    "    for ii in range(0,math.ceil(len(inString)/2)):\n",
    "        if inString[ii] != inString[len(inString)-ii-1]:\n",
    "            answer = False\n",
    "            break\n",
    "            \n",
    "    return answer"
   ]
  },
  {
   "cell_type": "code",
   "execution_count": 7,
   "metadata": {
    "collapsed": true
   },
   "outputs": [],
   "source": [
    "def b10tob2(n):\n",
    "    answer = ''\n",
    "    while n>0:\n",
    "        r = n%2\n",
    "        n = int((n-r)/2)\n",
    "        answer = str(r) + answer\n",
    "    \n",
    "    return answer"
   ]
  },
  {
   "cell_type": "code",
   "execution_count": 10,
   "metadata": {},
   "outputs": [],
   "source": [
    "p_nums = []\n",
    "\n",
    "for num in range(1,10**6):\n",
    "    base10 = str(num)\n",
    "    if not isPalindrome(base10):\n",
    "        continue\n",
    "    \n",
    "    base2 = str(b10tob2(num))\n",
    "    if not isPalindrome(base2):\n",
    "        continue\n",
    "        \n",
    "    p_nums.append(num)"
   ]
  },
  {
   "cell_type": "code",
   "execution_count": 11,
   "metadata": {},
   "outputs": [
    {
     "data": {
      "text/plain": [
       "[1,\n",
       " 3,\n",
       " 5,\n",
       " 7,\n",
       " 9,\n",
       " 33,\n",
       " 99,\n",
       " 313,\n",
       " 585,\n",
       " 717,\n",
       " 7447,\n",
       " 9009,\n",
       " 15351,\n",
       " 32223,\n",
       " 39993,\n",
       " 53235,\n",
       " 53835,\n",
       " 73737,\n",
       " 585585]"
      ]
     },
     "execution_count": 11,
     "metadata": {},
     "output_type": "execute_result"
    }
   ],
   "source": [
    "p_nums"
   ]
  },
  {
   "cell_type": "code",
   "execution_count": 13,
   "metadata": {},
   "outputs": [
    {
     "data": {
      "text/plain": [
       "872187"
      ]
     },
     "execution_count": 13,
     "metadata": {},
     "output_type": "execute_result"
    }
   ],
   "source": [
    "sum(p_nums)"
   ]
  },
  {
   "cell_type": "code",
   "execution_count": null,
   "metadata": {
    "collapsed": true
   },
   "outputs": [],
   "source": []
  }
 ],
 "metadata": {
  "kernelspec": {
   "display_name": "Python 3",
   "language": "python",
   "name": "python3"
  },
  "language_info": {
   "codemirror_mode": {
    "name": "ipython",
    "version": 3
   },
   "file_extension": ".py",
   "mimetype": "text/x-python",
   "name": "python",
   "nbconvert_exporter": "python",
   "pygments_lexer": "ipython3",
   "version": "3.6.1"
  }
 },
 "nbformat": 4,
 "nbformat_minor": 2
}
