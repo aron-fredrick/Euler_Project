{
 "cells": [
  {
   "cell_type": "code",
   "execution_count": 1,
   "metadata": {
    "collapsed": true
   },
   "outputs": [],
   "source": [
    "def permuts(num_str):\n",
    "    p_list = []\n",
    "    if len(num_str)==1:\n",
    "        return [num_str]\n",
    "    if len(num_str)==2:\n",
    "        return [num_str , num_str[::-1]]\n",
    "    for ii in range(0,len(num_str)):\n",
    "        p_list = p_list+[num_str[ii]+s for s in permuts(num_str[0:ii]+num_str[ii+1:])]\n",
    "    return p_list"
   ]
  },
  {
   "cell_type": "code",
   "execution_count": 2,
   "metadata": {
    "collapsed": true
   },
   "outputs": [],
   "source": [
    "pan_list = permuts('1234567890')"
   ]
  },
  {
   "cell_type": "code",
   "execution_count": 4,
   "metadata": {},
   "outputs": [],
   "source": [
    "primes = [2,3,5,7,11,13,17]\n",
    "pan_good = []\n",
    "\n",
    "for num_str in pan_list:\n",
    "    if num_str[0]!=0:\n",
    "        test_condition = True\n",
    "        for ii in range(0,len(primes)):\n",
    "            prime = primes[ii]\n",
    "            d1 = num_str[ii+1]\n",
    "            d2 = num_str[ii+2]\n",
    "            d3 = num_str[ii+3]\n",
    "            dint = int(d1+d2+d3)\n",
    "            if dint%prime!=0:\n",
    "                test_condition = False\n",
    "                break\n",
    "        \n",
    "        if test_condition:\n",
    "            pan_good.append(int(num_str))"
   ]
  },
  {
   "cell_type": "code",
   "execution_count": 5,
   "metadata": {},
   "outputs": [
    {
     "data": {
      "text/plain": [
       "[1430952867, 1460357289, 1406357289, 4130952867, 4160357289, 4106357289]"
      ]
     },
     "execution_count": 5,
     "metadata": {},
     "output_type": "execute_result"
    }
   ],
   "source": [
    "pan_good"
   ]
  },
  {
   "cell_type": "code",
   "execution_count": 6,
   "metadata": {},
   "outputs": [
    {
     "data": {
      "text/plain": [
       "16695334890"
      ]
     },
     "execution_count": 6,
     "metadata": {},
     "output_type": "execute_result"
    }
   ],
   "source": [
    "sum(pan_good)"
   ]
  },
  {
   "cell_type": "code",
   "execution_count": null,
   "metadata": {
    "collapsed": true
   },
   "outputs": [],
   "source": []
  }
 ],
 "metadata": {
  "kernelspec": {
   "display_name": "Python 3",
   "language": "python",
   "name": "python3"
  },
  "language_info": {
   "codemirror_mode": {
    "name": "ipython",
    "version": 3
   },
   "file_extension": ".py",
   "mimetype": "text/x-python",
   "name": "python",
   "nbconvert_exporter": "python",
   "pygments_lexer": "ipython3",
   "version": "3.6.1"
  }
 },
 "nbformat": 4,
 "nbformat_minor": 2
}
