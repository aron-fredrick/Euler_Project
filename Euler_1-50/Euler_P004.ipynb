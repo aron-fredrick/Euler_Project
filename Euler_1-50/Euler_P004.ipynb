{
 "cells": [
  {
   "cell_type": "code",
   "execution_count": 7,
   "metadata": {
    "collapsed": true
   },
   "outputs": [],
   "source": [
    "import numpy as np"
   ]
  },
  {
   "cell_type": "code",
   "execution_count": 8,
   "metadata": {
    "collapsed": true
   },
   "outputs": [],
   "source": [
    "def PalindromeTest(N):\n",
    "    \n",
    "    nstring = str(N)\n",
    "    nlength = len(nstring)\n",
    "    start = 0\n",
    "    end = int(np.floor(nlength/2))\n",
    "    isPalindrome = True\n",
    "    \n",
    "    for ii in range(start,end):\n",
    "        testa = nstring[ii]\n",
    "        testb = nstring[nlength-ii-1]\n",
    "        if testa != testb:\n",
    "            isPalindrome = False\n",
    "            break\n",
    "            \n",
    "    return isPalindrome\n",
    "        \n",
    "        "
   ]
  },
  {
   "cell_type": "code",
   "execution_count": 11,
   "metadata": {},
   "outputs": [
    {
     "name": "stdout",
     "output_type": "stream",
     "text": [
      "The value of the largest Palindrome = 999000000999 and it took 8.852406740188599 seconds\n"
     ]
    }
   ],
   "source": [
    "start = time.time()\n",
    "N = 999999\n",
    "npalindrome = 0\n",
    "while N>0:\n",
    "    for ii in range(N,1,-1):\n",
    "        if PalindromeTest(N*ii):\n",
    "            ntest = ii\n",
    "            break\n",
    "        if N*ii < npalindrome:\n",
    "            break\n",
    "    if N*ii>npalindrome:\n",
    "        npalindrome = N*ii\n",
    "    N = N-1\n",
    "end = time.time()\n",
    "print(f'The value of the largest Palindrome = {npalindrome} and it took {end - start} seconds')"
   ]
  },
  {
   "cell_type": "code",
   "execution_count": 49,
   "metadata": {},
   "outputs": [
    {
     "data": {
      "text/plain": [
       "906609"
      ]
     },
     "execution_count": 49,
     "metadata": {},
     "output_type": "execute_result"
    }
   ],
   "source": [
    "npalindrome"
   ]
  },
  {
   "cell_type": "code",
   "execution_count": 6,
   "metadata": {},
   "outputs": [
    {
     "name": "stdout",
     "output_type": "stream",
     "text": [
      "The value of the largest Palindrome = 99000099 and it took 166.3145751953125 seconds\n"
     ]
    }
   ],
   "source": [
    "import time\n",
    "start = time.time()\n",
    "max_palindrome = -1\n",
    "for i in range(1000,10000):\n",
    "    for j in range(1000,10000):\n",
    "        prod = i*j\n",
    "        if (str(prod) == str(prod)[::-1]) and (prod > max_palindrome):\n",
    "            max_palindrome = prod\n",
    "end = time.time()\n",
    "print(f'The value of the largest Palindrome = {max_palindrome} and it took {end - start} seconds')"
   ]
  },
  {
   "cell_type": "code",
   "execution_count": null,
   "metadata": {
    "collapsed": true
   },
   "outputs": [],
   "source": []
  }
 ],
 "metadata": {
  "kernelspec": {
   "display_name": "Python 3",
   "language": "python",
   "name": "python3"
  },
  "language_info": {
   "codemirror_mode": {
    "name": "ipython",
    "version": 3
   },
   "file_extension": ".py",
   "mimetype": "text/x-python",
   "name": "python",
   "nbconvert_exporter": "python",
   "pygments_lexer": "ipython3",
   "version": "3.6.1"
  }
 },
 "nbformat": 4,
 "nbformat_minor": 2
}
