{
 "cells": [
  {
   "cell_type": "code",
   "execution_count": 8,
   "metadata": {
    "collapsed": true
   },
   "outputs": [],
   "source": [
    "def permuts(num_str):\n",
    "    p_list = []\n",
    "    if len(num_str)==1:\n",
    "        return [num_str]\n",
    "    if len(num_str)==2:\n",
    "        return [num_str , num_str[::-1]]\n",
    "    for ii in range(0,len(num_str)):\n",
    "        p_list = p_list+[num_str[ii]+s for s in permuts(num_str[0:ii]+num_str[ii+1:])]\n",
    "    return p_list\n",
    "\n",
    "def primes(N_max):\n",
    "    prime_numbers = [2]\n",
    "    test = True\n",
    "    N = 3\n",
    "    \n",
    "    while prime_numbers[-1] < N_max:\n",
    "        isprime = True\n",
    "        for prime in prime_numbers:\n",
    "            if N%prime == 0:\n",
    "                isprime = False\n",
    "                break\n",
    "        if isprime:\n",
    "            if N > N_max:\n",
    "                break\n",
    "            prime_numbers.append(N)\n",
    "        N = N + 2\n",
    "    return prime_numbers\n",
    "\n",
    "def is_permute(str1,str2):\n",
    "    for letter2 in str2:\n",
    "        if letter2 not in str1:\n",
    "            return False\n",
    "    \n",
    "    for letter1 in str1:\n",
    "        if letter1 not in str2:\n",
    "            return False\n",
    "        \n",
    "    if len(str1)!=len(str2):\n",
    "        return False\n",
    "        \n",
    "    return True"
   ]
  },
  {
   "cell_type": "code",
   "execution_count": 12,
   "metadata": {},
   "outputs": [],
   "source": [
    "primes_list = primes(10000)\n",
    "\n",
    "while primes_list[0]<1000:\n",
    "    primes_list.pop(0)"
   ]
  },
  {
   "cell_type": "code",
   "execution_count": 20,
   "metadata": {},
   "outputs": [
    {
     "data": {
      "text/plain": [
       "'296962999629'"
      ]
     },
     "execution_count": 20,
     "metadata": {},
     "output_type": "execute_result"
    }
   ],
   "source": [
    "ans = ''\n",
    "for ii in range(0,len(primes_list)-1):\n",
    "    if primes_list[ii]==1487:\n",
    "        continue\n",
    "    for jj in range(ii+1,len(primes_list)):\n",
    "        prime1 = primes_list[ii]\n",
    "        prime2 = primes_list[jj]\n",
    "        if is_permute(str(prime1),str(prime2)):\n",
    "            prime3 = 2*prime2 - prime1\n",
    "            if prime3 in primes_list:\n",
    "                if is_permute(str(prime1),str(prime3)):\n",
    "                    ans = ans+str(prime1)+str(prime2)+str(prime3)\n",
    "                    break\n",
    "\n",
    "ans"
   ]
  },
  {
   "cell_type": "code",
   "execution_count": 21,
   "metadata": {},
   "outputs": [
    {
     "data": {
      "text/plain": [
       "-46"
      ]
     },
     "execution_count": 21,
     "metadata": {},
     "output_type": "execute_result"
    }
   ],
   "source": [
    "prime3-prime2"
   ]
  },
  {
   "cell_type": "code",
   "execution_count": null,
   "metadata": {
    "collapsed": true
   },
   "outputs": [],
   "source": []
  }
 ],
 "metadata": {
  "kernelspec": {
   "display_name": "Python 3",
   "language": "python",
   "name": "python3"
  },
  "language_info": {
   "codemirror_mode": {
    "name": "ipython",
    "version": 3
   },
   "file_extension": ".py",
   "mimetype": "text/x-python",
   "name": "python",
   "nbconvert_exporter": "python",
   "pygments_lexer": "ipython3",
   "version": "3.6.1"
  }
 },
 "nbformat": 4,
 "nbformat_minor": 2
}
