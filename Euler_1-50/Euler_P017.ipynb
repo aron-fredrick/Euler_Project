{
 "cells": [
  {
   "cell_type": "code",
   "execution_count": 17,
   "metadata": {},
   "outputs": [],
   "source": [
    "numbers_lib = {\n",
    "    0:'',\n",
    "    1:'one',\n",
    "    2:'two',\n",
    "    3:'three',\n",
    "    4:'four',\n",
    "    5:'five',\n",
    "    6:'six',\n",
    "    7:'seven',\n",
    "    8:'eight',\n",
    "    9:'nine',\n",
    "    10:'ten',\n",
    "    11:'eleven',\n",
    "    12:'twelve',\n",
    "    13:'thirteen',\n",
    "    14:'fourteen',\n",
    "    15:'fifteen',\n",
    "    16:'sixteen',\n",
    "    17:'seventeen',\n",
    "    18:'eighteen',\n",
    "    19:'nineteen',\n",
    "    20:'twenty',\n",
    "    30:'thirty',\n",
    "    40:'forty',\n",
    "    50:'fifty',\n",
    "    60:'sixty',\n",
    "    70:'seventy',\n",
    "    80:'eighty',\n",
    "    90:'ninety'\n",
    "}"
   ]
  },
  {
   "cell_type": "code",
   "execution_count": 44,
   "metadata": {},
   "outputs": [
    {
     "name": "stdout",
     "output_type": "stream",
     "text": [
      "21124\n"
     ]
    }
   ],
   "source": [
    "N = 1000\n",
    "lettercount = 0\n",
    "\n",
    "for ii in range(1,N+1):\n",
    "    \n",
    "    last2 = ii%100\n",
    "    \n",
    "    if 0<last2<=19:\n",
    "        lettercount = lettercount+len(numbers_lib[last2])\n",
    "    elif last2!=0:\n",
    "        last1 = ii%10\n",
    "        secondlast = (last2 - last1)/10\n",
    "        \n",
    "        lettercount = lettercount+len(numbers_lib[secondlast*10])+len(numbers_lib[last1])\n",
    "        \n",
    "    if 100<=ii<1000:\n",
    "        hundredsdigit = np.floor(ii/100)\n",
    "        lettercount = lettercount+len('hundred')+len(numbers_lib[hundredsdigit])\n",
    "        if ii%100!=0:\n",
    "            lettercount = lettercount+3\n",
    "            #print('%d %d' % (hundredsdigit,last2))\n",
    "        \n",
    "    if ii==1000:\n",
    "        lettercount = lettercount+len('onethousand')\n",
    "        \n",
    "    \n",
    "print(lettercount)  "
   ]
  },
  {
   "cell_type": "code",
   "execution_count": 28,
   "metadata": {},
   "outputs": [],
   "source": [
    "import numpy as np"
   ]
  },
  {
   "cell_type": "code",
   "execution_count": 32,
   "metadata": {},
   "outputs": [
    {
     "data": {
      "text/plain": [
       "19824"
      ]
     },
     "execution_count": 32,
     "metadata": {},
     "output_type": "execute_result"
    }
   ],
   "source": [
    "lettercount"
   ]
  },
  {
   "cell_type": "code",
   "execution_count": null,
   "metadata": {
    "collapsed": true
   },
   "outputs": [],
   "source": []
  }
 ],
 "metadata": {
  "kernelspec": {
   "display_name": "Python 3",
   "language": "python",
   "name": "python3"
  },
  "language_info": {
   "codemirror_mode": {
    "name": "ipython",
    "version": 3
   },
   "file_extension": ".py",
   "mimetype": "text/x-python",
   "name": "python",
   "nbconvert_exporter": "python",
   "pygments_lexer": "ipython3",
   "version": "3.6.1"
  }
 },
 "nbformat": 4,
 "nbformat_minor": 2
}
