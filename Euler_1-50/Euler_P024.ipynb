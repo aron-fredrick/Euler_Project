{
 "cells": [
  {
   "cell_type": "code",
   "execution_count": 16,
   "metadata": {},
   "outputs": [],
   "source": [
    "list0 = ['0','1','2','3','4','5','6','7','8','9']\n",
    "lexico = []\n",
    "\n",
    "for ii in list0:\n",
    "    \n",
    "    dig1 = ii\n",
    "    list1 = [x for x in list0 if x!=ii]\n",
    "    \n",
    "    for jj in list1:\n",
    "        \n",
    "        dig2 = jj\n",
    "        list2 = [x for x in list1 if x!=jj]\n",
    "        \n",
    "        for kk in list2:\n",
    "            \n",
    "            dig3 = kk\n",
    "            list3 = [x for x in list2 if x!=kk]\n",
    "            \n",
    "            for ll in list3:\n",
    "                \n",
    "                dig4 = ll\n",
    "                list4 = [x for x in list3 if x!=ll]\n",
    "                \n",
    "                for mm in list4:\n",
    "                    \n",
    "                    dig5 = mm\n",
    "                    list5 = [x for x in list4 if x!=mm]\n",
    "                    \n",
    "                    for nn in list5:\n",
    "                        \n",
    "                        dig6 = nn\n",
    "                        list6 = [x for x in list5 if x!=nn]\n",
    "                        \n",
    "                        for oo in list6:\n",
    "                            \n",
    "                            dig7 = oo\n",
    "                            list7 = [x for x in list6 if x!=oo]\n",
    "                            \n",
    "                            for pp in list7:\n",
    "                                \n",
    "                                dig8 = pp\n",
    "                                list8 = [x for x in list7 if x!=pp]\n",
    "                                \n",
    "                                for qq in list8:\n",
    "                                    \n",
    "                                    dig9 = qq\n",
    "                                    list9 = [x for x in list8 if x!=qq]\n",
    "                                    \n",
    "                                    for rr in list9:\n",
    "                                        \n",
    "                                        dig10 = rr\n",
    "                                        lexico.append(dig1+dig2+dig3+dig4+dig5+dig6+dig7+dig8+dig9+dig10)\n",
    "            \n",
    "            \n",
    "    "
   ]
  },
  {
   "cell_type": "code",
   "execution_count": 18,
   "metadata": {},
   "outputs": [
    {
     "data": {
      "text/plain": [
       "'2783915460'"
      ]
     },
     "execution_count": 18,
     "metadata": {},
     "output_type": "execute_result"
    }
   ],
   "source": [
    "lexico[999999]"
   ]
  },
  {
   "cell_type": "code",
   "execution_count": 11,
   "metadata": {},
   "outputs": [
    {
     "name": "stdout",
     "output_type": "stream",
     "text": [
      "<filter object at 0x00000295AD14D780>\n"
     ]
    }
   ],
   "source": [
    "print(filter('1',list0))"
   ]
  },
  {
   "cell_type": "code",
   "execution_count": null,
   "metadata": {
    "collapsed": true
   },
   "outputs": [],
   "source": []
  }
 ],
 "metadata": {
  "kernelspec": {
   "display_name": "Python 3",
   "language": "python",
   "name": "python3"
  },
  "language_info": {
   "codemirror_mode": {
    "name": "ipython",
    "version": 3
   },
   "file_extension": ".py",
   "mimetype": "text/x-python",
   "name": "python",
   "nbconvert_exporter": "python",
   "pygments_lexer": "ipython3",
   "version": "3.6.1"
  }
 },
 "nbformat": 4,
 "nbformat_minor": 2
}
