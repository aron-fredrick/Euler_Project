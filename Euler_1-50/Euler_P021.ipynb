{
 "cells": [
  {
   "cell_type": "code",
   "execution_count": 1,
   "metadata": {
    "collapsed": true
   },
   "outputs": [],
   "source": [
    "import numpy as np"
   ]
  },
  {
   "cell_type": "code",
   "execution_count": 20,
   "metadata": {},
   "outputs": [
    {
     "name": "stdout",
     "output_type": "stream",
     "text": [
      "[220]\n"
     ]
    }
   ],
   "source": [
    "Ntop = 250\n",
    "all_numbers = list(range(1,Ntop+1))\n",
    "amicable_numbers = []\n",
    "\n",
    "for N in all_numbers:\n",
    "    \n",
    "    divisors_low = [1]\n",
    "    sqrtN = np.floor(np.sqrt(N))\n",
    "    for ii in range(2,int(sqrtN)+1):\n",
    "        if N%ii ==0:\n",
    "            divisors_low.append(ii)\n",
    "            if ii!=sqrtN:\n",
    "                divisors_low.append(N/ii)\n",
    "            \n",
    "    dlow = sum(divisors_low)\n",
    "    Nhigh = dlow\n",
    "    \n",
    "    divisors_high = [1]\n",
    "    sqrtNhigh = np.floor(np.sqrt(Nhigh))\n",
    "    for jj in range(2,int(sqrtNhigh)+1):\n",
    "        if Nhigh%jj ==0:\n",
    "            divisors_high.append(jj)\n",
    "            if jj!=sqrtNhigh:\n",
    "                divisors_high.append(Nhigh/jj)\n",
    "    \n",
    "    dhigh = sum(divisors_high)\n",
    "    \n",
    "    #print(\"N = \"+str(N)+\" d(N) = \" + str(dlow)+\" d(d(N)) = \"+str(dhigh))\n",
    "    \n",
    "    if (dhigh == N) and (N!=Nhigh):\n",
    "        amicable_numbers.append(N)\n",
    "        \n",
    "        if Nhigh <= Ntop:\n",
    "            amicable_numbers.append(Nhigh)\n",
    "            all_numbers.remove(Nhigh)\n",
    "            \n",
    "print(amicable_numbers)"
   ]
  },
  {
   "cell_type": "code",
   "execution_count": 14,
   "metadata": {
    "collapsed": true
   },
   "outputs": [],
   "source": []
  },
  {
   "cell_type": "code",
   "execution_count": null,
   "metadata": {},
   "outputs": [],
   "source": []
  },
  {
   "cell_type": "code",
   "execution_count": null,
   "metadata": {
    "collapsed": true
   },
   "outputs": [],
   "source": []
  }
 ],
 "metadata": {
  "kernelspec": {
   "display_name": "Python 3",
   "language": "python",
   "name": "python3"
  },
  "language_info": {
   "codemirror_mode": {
    "name": "ipython",
    "version": 3
   },
   "file_extension": ".py",
   "mimetype": "text/x-python",
   "name": "python",
   "nbconvert_exporter": "python",
   "pygments_lexer": "ipython3",
   "version": "3.6.1"
  }
 },
 "nbformat": 4,
 "nbformat_minor": 2
}
