{
 "cells": [
  {
   "cell_type": "code",
   "execution_count": 6,
   "metadata": {},
   "outputs": [],
   "source": [
    "letters_dict = {\n",
    "    'a':1,\n",
    "    'b':2,\n",
    "    'c':3,\n",
    "    'd':4,\n",
    "    'e':5,\n",
    "    'f':6,\n",
    "    'g':7,\n",
    "    'h':8,\n",
    "    'i':9,\n",
    "    'j':10,\n",
    "    'k':11,\n",
    "    'l':12,\n",
    "    'm':13,\n",
    "    'n':14,\n",
    "    'o':15,\n",
    "    'p':16,\n",
    "    'q':17,\n",
    "    'r':18,\n",
    "    's':19,\n",
    "    't':20,\n",
    "    'u':21,\n",
    "    'v':22,\n",
    "    'w':23,\n",
    "    'x':24,\n",
    "    'y':25,\n",
    "    'z':26\n",
    "}\n",
    "\n",
    "infile = open(\"p042_words.txt\",'r')\n",
    "\n",
    "words_list = infile.readline().split(\",\")\n",
    "longest = 0\n",
    "\n",
    "for ii in range(0,len(words_list)):\n",
    "    word = words_list[ii].strip('\"')\n",
    "    word = word.lower()\n",
    "    words_list[ii] = word\n",
    "    if len(word) > longest:\n",
    "        longest = len(word)\n",
    "\n",
    "infile.close()\n",
    "\n",
    "\n",
    "triangle_numbers = [1]\n",
    "num = 1\n",
    "n = 2\n",
    "\n",
    "while num < longest*26:\n",
    "    num = num + n\n",
    "    n+=1\n",
    "    triangle_numbers.append(num)"
   ]
  },
  {
   "cell_type": "code",
   "execution_count": 9,
   "metadata": {},
   "outputs": [],
   "source": [
    "count = 0\n",
    "for word in words_list:\n",
    "    word_sum = 0\n",
    "    for letter in word:\n",
    "        word_sum = word_sum + letters_dict[letter]\n",
    "    \n",
    "    if word_sum in triangle_numbers:\n",
    "        count+=1"
   ]
  },
  {
   "cell_type": "code",
   "execution_count": 10,
   "metadata": {},
   "outputs": [
    {
     "data": {
      "text/plain": [
       "162"
      ]
     },
     "execution_count": 10,
     "metadata": {},
     "output_type": "execute_result"
    }
   ],
   "source": [
    "count"
   ]
  },
  {
   "cell_type": "code",
   "execution_count": null,
   "metadata": {
    "collapsed": true
   },
   "outputs": [],
   "source": []
  }
 ],
 "metadata": {
  "kernelspec": {
   "display_name": "Python 3",
   "language": "python",
   "name": "python3"
  },
  "language_info": {
   "codemirror_mode": {
    "name": "ipython",
    "version": 3
   },
   "file_extension": ".py",
   "mimetype": "text/x-python",
   "name": "python",
   "nbconvert_exporter": "python",
   "pygments_lexer": "ipython3",
   "version": "3.6.1"
  }
 },
 "nbformat": 4,
 "nbformat_minor": 2
}
