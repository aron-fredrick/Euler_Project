{
 "cells": [
  {
   "cell_type": "code",
   "execution_count": 12,
   "metadata": {
    "collapsed": true
   },
   "outputs": [],
   "source": [
    "def prime_factors(n,primes_list):\n",
    "    import numpy as np\n",
    "    prime_factors = []\n",
    "    test = True\n",
    "    bignumber = n\n",
    "    upper = np.ceil(bignumber)\n",
    "    \n",
    "    for prime in primes_list:\n",
    "        if n%prime == 0:\n",
    "            prime_factors.append(prime)\n",
    "    \n",
    "    return prime_factors"
   ]
  },
  {
   "cell_type": "code",
   "execution_count": 11,
   "metadata": {
    "collapsed": true
   },
   "outputs": [],
   "source": [
    "def next_prime(prime_numbers = []):\n",
    "    if len(prime_numbers)<=1:\n",
    "        prime_numbers = [2]\n",
    "        N = 3\n",
    "    else:\n",
    "        N = prime_numbers[-1]+2\n",
    "    test = True\n",
    "    assert N%2 == 1\n",
    "        \n",
    "    \n",
    "    while test:\n",
    "        isprime = True\n",
    "        for prime in prime_numbers:\n",
    "            if N%prime == 0:\n",
    "                isprime = False\n",
    "                break\n",
    "        if isprime:\n",
    "            prime_numbers.append(N)\n",
    "            test = False\n",
    "        N = N + 2\n",
    "    return prime_numbers"
   ]
  },
  {
   "cell_type": "code",
   "execution_count": 18,
   "metadata": {},
   "outputs": [],
   "source": [
    "N = 210\n",
    "firstN = N\n",
    "consecutive = 4\n",
    "\n",
    "primes_list = next_prime()\n",
    "\n",
    "\n",
    "condition = True\n",
    "count = 0\n",
    "\n",
    "while count<consecutive:\n",
    "    while primes_list[-1]<N:\n",
    "        primes_list = next_prime(primes_list)\n",
    "    primes = prime_factors(N,primes_list)\n",
    "    if len(primes) == consecutive:\n",
    "        count+=1\n",
    "        if count == 1:\n",
    "            firstN = N\n",
    "    else:\n",
    "        count = 0\n",
    "        \n",
    "    N+=1"
   ]
  },
  {
   "cell_type": "code",
   "execution_count": 19,
   "metadata": {},
   "outputs": [
    {
     "data": {
      "text/plain": [
       "134043"
      ]
     },
     "execution_count": 19,
     "metadata": {},
     "output_type": "execute_result"
    }
   ],
   "source": [
    "firstN"
   ]
  },
  {
   "cell_type": "code",
   "execution_count": 27,
   "metadata": {},
   "outputs": [
    {
     "data": {
      "text/plain": [
       "[3, 7, 13, 491]"
      ]
     },
     "execution_count": 27,
     "metadata": {},
     "output_type": "execute_result"
    }
   ],
   "source": [
    "prime_factors(firstN,primes_list)"
   ]
  },
  {
   "cell_type": "code",
   "execution_count": null,
   "metadata": {
    "collapsed": true
   },
   "outputs": [],
   "source": []
  }
 ],
 "metadata": {
  "kernelspec": {
   "display_name": "Python 3",
   "language": "python",
   "name": "python3"
  },
  "language_info": {
   "codemirror_mode": {
    "name": "ipython",
    "version": 3
   },
   "file_extension": ".py",
   "mimetype": "text/x-python",
   "name": "python",
   "nbconvert_exporter": "python",
   "pygments_lexer": "ipython3",
   "version": "3.6.1"
  }
 },
 "nbformat": 4,
 "nbformat_minor": 2
}
