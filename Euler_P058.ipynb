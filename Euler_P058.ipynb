{
 "cells": [
  {
   "cell_type": "code",
   "execution_count": 1,
   "metadata": {
    "collapsed": true
   },
   "outputs": [],
   "source": [
    "def isprime(n):\n",
    "    import numpy as np\n",
    "    prime = True\n",
    "    if n>=2:\n",
    "        \n",
    "        for ii in range(2,int(np.ceil(np.sqrt(n)))):\n",
    "            if n%ii == 0:\n",
    "                prime = False\n",
    "                break\n",
    "    else:\n",
    "        prime = False\n",
    "    return prime\n",
    "\n",
    "def primes(N_max):\n",
    "    prime_numbers = [2]\n",
    "    test = True\n",
    "    N = 3\n",
    "    \n",
    "    while prime_numbers[-1] < N_max:\n",
    "        isprime = True\n",
    "        for prime in prime_numbers:\n",
    "            if N%prime == 0:\n",
    "                isprime = False\n",
    "                break\n",
    "        if isprime:\n",
    "            if N > N_max:\n",
    "                break\n",
    "            prime_numbers.append(N)\n",
    "        N = N + 2\n",
    "    return prime_numbers\n",
    "\n",
    "def next_prime(prime_numbers = []):\n",
    "    if len(prime_numbers)<=1:\n",
    "        prime_numbers = [2]\n",
    "        N = 3\n",
    "    else:\n",
    "        N = prime_numbers[-1]+2\n",
    "    test = True\n",
    "    assert N%2 == 1\n",
    "        \n",
    "    \n",
    "    while test:\n",
    "        isprime = True\n",
    "        for prime in prime_numbers:\n",
    "            if N%prime == 0:\n",
    "                isprime = False\n",
    "                break\n",
    "        if isprime:\n",
    "            prime_numbers.append(N)\n",
    "            test = False\n",
    "        N = N + 2\n",
    "    return prime_numbers"
   ]
  },
  {
   "cell_type": "code",
   "execution_count": null,
   "metadata": {},
   "outputs": [],
   "source": [
    "def get_primes(n):\n",
    "    m = n+1\n",
    "    numbers = [True] * m\n",
    "    for i in range(2, int(n**0.5 + 1)):\n",
    "    if numbers[i]:\n",
    "        for j in range(i*i, m, i):\n",
    "            numbers[j] = False\n",
    "    primes1 = []\n",
    "    for i in range(2, m):\n",
    "    if numbers[i]:\n",
    "        primes1.append(i)\n",
    "    return primes1"
   ]
  },
  {
   "cell_type": "code",
   "execution_count": null,
   "metadata": {},
   "outputs": [],
   "source": [
    "primes_list = get_primes(10**9)"
   ]
  },
  {
   "cell_type": "code",
   "execution_count": 4,
   "metadata": {},
   "outputs": [
    {
     "data": {
      "text/plain": [
       "26241"
      ]
     },
     "execution_count": 4,
     "metadata": {},
     "output_type": "execute_result"
    }
   ],
   "source": [
    "nsize = 1\n",
    "nprime = 0\n",
    "ndiag = 1\n",
    "n = 1\n",
    "per = 0.1\n",
    "cond = False\n",
    "\n",
    "while not cond:\n",
    "    nsize +=2\n",
    "    \n",
    "    for ii in range(0,4):\n",
    "        n = n + (nsize-1)\n",
    "        ndiag +=1\n",
    "        #while n>primes_list[-1]:\n",
    "        #    primes_list = next_prime(primes_list)\n",
    "        \n",
    "        if ii!=3:\n",
    "            if isprime(n):#n in primes_list:\n",
    "                nprime +=1\n",
    "        \n",
    "    if nprime/ndiag < per:\n",
    "        cond = True\n",
    "    \n",
    "\n",
    "nsize"
   ]
  },
  {
   "cell_type": "code",
   "execution_count": null,
   "metadata": {},
   "outputs": [],
   "source": [
    "nprime"
   ]
  },
  {
   "cell_type": "code",
   "execution_count": null,
   "metadata": {},
   "outputs": [],
   "source": [
    "ndiag"
   ]
  },
  {
   "cell_type": "code",
   "execution_count": null,
   "metadata": {},
   "outputs": [],
   "source": [
    "nsize"
   ]
  },
  {
   "cell_type": "code",
   "execution_count": 3,
   "metadata": {},
   "outputs": [
    {
     "data": {
      "text/plain": [
       "0.09999809454850327"
      ]
     },
     "execution_count": 3,
     "metadata": {},
     "output_type": "execute_result"
    }
   ],
   "source": [
    "nprime/ndiag"
   ]
  },
  {
   "cell_type": "code",
   "execution_count": null,
   "metadata": {},
   "outputs": [],
   "source": [
    "12349 in primes_list"
   ]
  },
  {
   "cell_type": "code",
   "execution_count": null,
   "metadata": {},
   "outputs": [],
   "source": [
    "isprime(1200005004001)"
   ]
  },
  {
   "cell_type": "code",
   "execution_count": null,
   "metadata": {
    "collapsed": true
   },
   "outputs": [],
   "source": []
  }
 ],
 "metadata": {
  "kernelspec": {
   "display_name": "Python 3",
   "language": "python",
   "name": "python3"
  },
  "language_info": {
   "codemirror_mode": {
    "name": "ipython",
    "version": 3
   },
   "file_extension": ".py",
   "mimetype": "text/x-python",
   "name": "python",
   "nbconvert_exporter": "python",
   "pygments_lexer": "ipython3",
   "version": "3.6.1"
  }
 },
 "nbformat": 4,
 "nbformat_minor": 2
}
