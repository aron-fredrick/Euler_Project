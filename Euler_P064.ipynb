{
 "cells": [
  {
   "cell_type": "code",
   "execution_count": 1,
   "metadata": {
    "collapsed": true
   },
   "outputs": [],
   "source": [
    "import math"
   ]
  },
  {
   "cell_type": "code",
   "execution_count": 25,
   "metadata": {},
   "outputs": [
    {
     "name": "stdout",
     "output_type": "stream",
     "text": [
      "20\n"
     ]
    }
   ],
   "source": [
    "c_odd = 0\n",
    "Nmax = 100\n",
    "\n",
    "for N in range(1,Nmax+1):\n",
    "    \n",
    "    if (N**(1/2))%1 == 0:\n",
    "        continue\n",
    "        \n",
    "    c = 0\n",
    "    flN = math.floor(N**(1/2))\n",
    "    A = math.floor((N**(1/2)+flN)/(N-flN**2))\n",
    "\n",
    "    b1 = flN - A*(N-flN**2)\n",
    "    b2 = N - flN**2\n",
    "\n",
    "    cond = True\n",
    "    b1old = b1\n",
    "    b2old = b2\n",
    "\n",
    "    while cond:\n",
    "        B = math.floor(b2old*(N**(1/2)-b1old)/(N-b1old**2))\n",
    "        b1new = - (b1old + B*(N-b1old**2)/b2old)\n",
    "        b2new = (N-b1old**2)/b2old\n",
    "\n",
    "        #print(B,b1new,b2new)\n",
    "\n",
    "        if b1new == b1 and b2new == b2:\n",
    "            cond = False\n",
    "\n",
    "        b1old = b1new\n",
    "        b2old = b2new\n",
    "        c = c+1\n",
    "    \n",
    "    if c%2==1:\n",
    "        c_odd+=1\n",
    "        \n",
    "print(c_odd)"
   ]
  },
  {
   "cell_type": "code",
   "execution_count": 8,
   "metadata": {},
   "outputs": [
    {
     "data": {
      "text/plain": [
       "1"
      ]
     },
     "execution_count": 8,
     "metadata": {},
     "output_type": "execute_result"
    }
   ],
   "source": [
    "A"
   ]
  },
  {
   "cell_type": "code",
   "execution_count": 23,
   "metadata": {},
   "outputs": [
    {
     "data": {
      "text/plain": [
       "1322"
      ]
     },
     "execution_count": 23,
     "metadata": {},
     "output_type": "execute_result"
    }
   ],
   "source": [
    "c_odd"
   ]
  },
  {
   "cell_type": "code",
   "execution_count": null,
   "metadata": {},
   "outputs": [],
   "source": []
  },
  {
   "cell_type": "code",
   "execution_count": null,
   "metadata": {
    "collapsed": true
   },
   "outputs": [],
   "source": []
  }
 ],
 "metadata": {
  "kernelspec": {
   "display_name": "Python 3",
   "language": "python",
   "name": "python3"
  },
  "language_info": {
   "codemirror_mode": {
    "name": "ipython",
    "version": 3
   },
   "file_extension": ".py",
   "mimetype": "text/x-python",
   "name": "python",
   "nbconvert_exporter": "python",
   "pygments_lexer": "ipython3",
   "version": "3.6.1"
  }
 },
 "nbformat": 4,
 "nbformat_minor": 2
}
