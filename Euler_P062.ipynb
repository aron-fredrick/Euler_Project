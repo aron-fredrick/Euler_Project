{
 "cells": [
  {
   "cell_type": "code",
   "execution_count": 109,
   "metadata": {},
   "outputs": [],
   "source": [
    "def cube_list(nmin,nmax):\n",
    "    n = 1\n",
    "    cube = n**3\n",
    "    clist = []\n",
    "    while cube<nmax:\n",
    "        \n",
    "        if cube>=nmin:\n",
    "            clist.append(cube)\n",
    "            \n",
    "        n+=1\n",
    "        cube = n**3\n",
    "    \n",
    "    return clist\n",
    "\n",
    "def is_cube(N):\n",
    "    import math\n",
    "    n3 = math.ceil(N**(1/3))\n",
    "    if n3**3 == N:\n",
    "        return True\n",
    "    else:\n",
    "        return False\n",
    "    \n",
    "def is_permute(str1,str2):\n",
    "    # checks to see if 2 strings are permutations of each other\n",
    "    l1 = sorted(str1)\n",
    "    l2 = sorted(str2)\n",
    "        \n",
    "    if l1==l2:\n",
    "        return True\n",
    "    else:\n",
    "        return False"
   ]
  },
  {
   "cell_type": "code",
   "execution_count": 110,
   "metadata": {},
   "outputs": [
    {
     "data": {
      "text/plain": [
       "True"
      ]
     },
     "execution_count": 110,
     "metadata": {},
     "output_type": "execute_result"
    }
   ],
   "source": [
    "is_permute('abc','cba')"
   ]
  },
  {
   "cell_type": "code",
   "execution_count": 123,
   "metadata": {},
   "outputs": [
    {
     "data": {
      "text/plain": [
       "127035954683"
      ]
     },
     "execution_count": 123,
     "metadata": {},
     "output_type": "execute_result"
    }
   ],
   "source": [
    "n1 = 7\n",
    "n2 = 8\n",
    "small_cube = 0\n",
    "final_cubes = []\n",
    "\n",
    "while small_cube==0:\n",
    "    clist = cube_list(10**n1,10**n2)\n",
    "\n",
    "\n",
    "    for cube1 in clist:\n",
    "        perms = []\n",
    "        count = 0\n",
    "\n",
    "        for cube2 in clist:\n",
    "            #longest = max([len(str(cube1)),len(str(cube2))])\n",
    "            #strcube1 = str(cube1).rjust(longest,'0')\n",
    "            #strcube2 = str(cube2).rjust(longest,'0')\n",
    "            if is_permute(str(cube1),str(cube2)):\n",
    "                #print(cube1,cube2)\n",
    "                count+=1\n",
    "                perms.append(cube2)\n",
    "\n",
    "        if count == 5:\n",
    "            small_cube = cube1\n",
    "            final_cubes = perms\n",
    "            break\n",
    "    n1 = n2\n",
    "    n2 += 1\n",
    "\n",
    "small_cube   "
   ]
  },
  {
   "cell_type": "code",
   "execution_count": 99,
   "metadata": {},
   "outputs": [],
   "source": [
    "def permutes(num_str):\n",
    "    # returns all the permutations of a string of characters\n",
    "    p_list = []\n",
    "    if len(num_str)==1:\n",
    "        return [num_str]\n",
    "    if len(num_str)==2:\n",
    "        return [num_str , num_str[::-1]]\n",
    "    for ii in range(0,len(num_str)):\n",
    "        p_list = p_list+[num_str[ii]+s for s in permuts(num_str[0:ii]+num_str[ii+1:])]\n",
    "    return p_list"
   ]
  },
  {
   "cell_type": "code",
   "execution_count": 77,
   "metadata": {},
   "outputs": [],
   "source": [
    "N = 1\n",
    "cond = True\n",
    "\n",
    "while cond:\n",
    "    n3 = N**3\n",
    "    n3str = str(n3)\n",
    "    n3permutes = list(set(permutes(n3str)))\n",
    "    count = 0\n",
    "    test_list = []\n",
    "    \n",
    "    \n",
    "    for n3test in n3permutes:\n",
    "        if is_cube(int(n3test)):\n",
    "            count+=1\n",
    "            test_list.append(n3test)\n",
    "    \n",
    "    if count == 3:\n",
    "        nfinal = n3\n",
    "        break\n",
    "        \n",
    "    N+=1"
   ]
  },
  {
   "cell_type": "code",
   "execution_count": 103,
   "metadata": {},
   "outputs": [],
   "source": [
    "test_perms = list(set(permutes(str(small_cube))))\n",
    "count = 0\n",
    "test_list = []\n",
    "for num in test_perms:\n",
    "    if is_cube(int(num)):\n",
    "        count+=1\n",
    "        test_list.append(num)"
   ]
  },
  {
   "cell_type": "code",
   "execution_count": 101,
   "metadata": {},
   "outputs": [
    {
     "data": {
      "text/plain": [
       "17173512"
      ]
     },
     "execution_count": 101,
     "metadata": {},
     "output_type": "execute_result"
    }
   ],
   "source": [
    "small_cube"
   ]
  },
  {
   "cell_type": "code",
   "execution_count": 104,
   "metadata": {},
   "outputs": [
    {
     "data": {
      "text/plain": [
       "['17173512', '72511713']"
      ]
     },
     "execution_count": 104,
     "metadata": {},
     "output_type": "execute_result"
    }
   ],
   "source": [
    "test_list"
   ]
  },
  {
   "cell_type": "code",
   "execution_count": 97,
   "metadata": {},
   "outputs": [
    {
     "data": {
      "text/plain": [
       "[17173512, 25153757, 72511713]"
      ]
     },
     "execution_count": 97,
     "metadata": {},
     "output_type": "execute_result"
    }
   ],
   "source": [
    "permutes"
   ]
  },
  {
   "cell_type": "code",
   "execution_count": 106,
   "metadata": {},
   "outputs": [
    {
     "data": {
      "text/plain": [
       "['a', 'b', 'c']"
      ]
     },
     "execution_count": 106,
     "metadata": {},
     "output_type": "execute_result"
    }
   ],
   "source": [
    "sorted('cba')"
   ]
  },
  {
   "cell_type": "code",
   "execution_count": 108,
   "metadata": {},
   "outputs": [
    {
     "data": {
      "text/plain": [
       "True"
      ]
     },
     "execution_count": 108,
     "metadata": {},
     "output_type": "execute_result"
    }
   ],
   "source": [
    "[1,2]==[1,2]"
   ]
  },
  {
   "cell_type": "code",
   "execution_count": 119,
   "metadata": {},
   "outputs": [
    {
     "data": {
      "text/plain": [
       "True"
      ]
     },
     "execution_count": 119,
     "metadata": {},
     "output_type": "execute_result"
    }
   ],
   "source": [
    "is_permute('abcdbbbaa','cbadabbab')"
   ]
  },
  {
   "cell_type": "code",
   "execution_count": null,
   "metadata": {
    "collapsed": true
   },
   "outputs": [],
   "source": []
  }
 ],
 "metadata": {
  "kernelspec": {
   "display_name": "Python 3",
   "language": "python",
   "name": "python3"
  },
  "language_info": {
   "codemirror_mode": {
    "name": "ipython",
    "version": 3
   },
   "file_extension": ".py",
   "mimetype": "text/x-python",
   "name": "python",
   "nbconvert_exporter": "python",
   "pygments_lexer": "ipython3",
   "version": "3.6.1"
  }
 },
 "nbformat": 4,
 "nbformat_minor": 2
}
