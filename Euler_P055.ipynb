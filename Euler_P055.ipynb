{
 "cells": [
  {
   "cell_type": "code",
   "execution_count": 1,
   "metadata": {
    "collapsed": true
   },
   "outputs": [],
   "source": [
    "def isPalindrome(inString):\n",
    "    import math\n",
    "    answer = True\n",
    "    \n",
    "    for ii in range(0,math.ceil(len(inString)/2)):\n",
    "        if inString[ii] != inString[len(inString)-ii-1]:\n",
    "            answer = False\n",
    "            break\n",
    "            \n",
    "    return answer"
   ]
  },
  {
   "cell_type": "code",
   "execution_count": 6,
   "metadata": {},
   "outputs": [
    {
     "data": {
      "text/plain": [
       "249"
      ]
     },
     "execution_count": 6,
     "metadata": {},
     "output_type": "execute_result"
    }
   ],
   "source": [
    "count = 0\n",
    "\n",
    "for n in range(1,10000):\n",
    "    ii = 0\n",
    "    lychrel = True\n",
    "    while ii < 50:\n",
    "        \n",
    "        nstr = str(n)\n",
    "        nrevstr = nstr[::-1]\n",
    "        \n",
    "        n = int(nstr) + int(nrevstr)\n",
    "        \n",
    "        if isPalindrome(str(n)):\n",
    "            lychrel = False\n",
    "            break\n",
    "        \n",
    "        ii+=1\n",
    "    \n",
    "    if lychrel:\n",
    "        count+=1\n",
    "    \n",
    "count"
   ]
  },
  {
   "cell_type": "code",
   "execution_count": null,
   "metadata": {},
   "outputs": [],
   "source": []
  },
  {
   "cell_type": "code",
   "execution_count": null,
   "metadata": {
    "collapsed": true
   },
   "outputs": [],
   "source": []
  }
 ],
 "metadata": {
  "kernelspec": {
   "display_name": "Python 3",
   "language": "python",
   "name": "python3"
  },
  "language_info": {
   "codemirror_mode": {
    "name": "ipython",
    "version": 3
   },
   "file_extension": ".py",
   "mimetype": "text/x-python",
   "name": "python",
   "nbconvert_exporter": "python",
   "pygments_lexer": "ipython3",
   "version": "3.6.1"
  }
 },
 "nbformat": 4,
 "nbformat_minor": 2
}
