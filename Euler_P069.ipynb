{
 "cells": [
  {
   "cell_type": "code",
   "execution_count": 14,
   "metadata": {
    "collapsed": true
   },
   "outputs": [],
   "source": [
    "def primeFactors(n):\n",
    "    prime_factors = []\n",
    "    # Print the number of two's that divide n\n",
    "    while n % 2 == 0:\n",
    "        if 2 not in prime_factors:\n",
    "            prime_factors.append(2)\n",
    "        n = n / 2\n",
    "         \n",
    "    # n must be odd at this point\n",
    "    # so a skip of 2 ( i = i + 2) can be used\n",
    "    for i in range(3,int(n**(1/2))+1,2):\n",
    "         \n",
    "        # while i divides n , print i ad divide n\n",
    "        while n % i== 0:\n",
    "            if i not in prime_factors:\n",
    "                prime_factors.append(i)\n",
    "            n = n / i\n",
    "             \n",
    "    # Condition if n is a prime\n",
    "    # number greater than 2\n",
    "    if n > 2:\n",
    "        prime_factors.append(int(n))\n",
    "        \n",
    "    return prime_factors"
   ]
  },
  {
   "cell_type": "code",
   "execution_count": 32,
   "metadata": {
    "collapsed": false
   },
   "outputs": [
    {
     "name": "stdout",
     "output_type": "stream",
     "text": [
      "510510\n",
      "46.038965463638306\n"
     ]
    }
   ],
   "source": [
    "start = time.time()\n",
    "max_ratio = 0\n",
    "\n",
    "for num1 in range(2,1000001):\n",
    "    n = primeFactors(num1)\n",
    "    phi = num1\n",
    "    for prime in n:\n",
    "        phi*=(1-1/prime)\n",
    "    if num1/phi > max_ratio:\n",
    "        #print(num1,phi,num1/phi)\n",
    "        max_ratio = num1/phi\n",
    "        n_final = num1\n",
    "print(n_final)\n",
    "end = time.time()\n",
    "print(end-start)"
   ]
  },
  {
   "cell_type": "code",
   "execution_count": 18,
   "metadata": {
    "collapsed": true
   },
   "outputs": [],
   "source": [
    "test = 999996"
   ]
  },
  {
   "cell_type": "code",
   "execution_count": 30,
   "metadata": {
    "collapsed": false
   },
   "outputs": [
    {
     "name": "stdout",
     "output_type": "stream",
     "text": [
      "0.058841705322265625\n"
     ]
    }
   ],
   "source": [
    "start = time.time()\n",
    "for test in range(1,5001):\n",
    "    a= primeFactors(test)\n",
    "end = time.time()\n",
    "print(end-start)"
   ]
  },
  {
   "cell_type": "code",
   "execution_count": 29,
   "metadata": {
    "collapsed": false
   },
   "outputs": [
    {
     "name": "stdout",
     "output_type": "stream",
     "text": [
      "9.689107418060303\n"
     ]
    }
   ],
   "source": [
    "start = time.time()\n",
    "for test in range(1,5001):\n",
    "    b = prime_factors(test)\n",
    "end = time.time()\n",
    "print(end-start)"
   ]
  },
  {
   "cell_type": "code",
   "execution_count": 27,
   "metadata": {
    "collapsed": false
   },
   "outputs": [
    {
     "data": {
      "text/plain": [
       "9467"
      ]
     },
     "execution_count": 27,
     "metadata": {},
     "output_type": "execute_result"
    }
   ],
   "source": [
    "test"
   ]
  },
  {
   "cell_type": "code",
   "execution_count": null,
   "metadata": {
    "collapsed": true
   },
   "outputs": [],
   "source": []
  }
 ],
 "metadata": {
  "anaconda-cloud": {},
  "kernelspec": {
   "display_name": "Python [default]",
   "language": "python",
   "name": "python3"
  },
  "language_info": {
   "codemirror_mode": {
    "name": "ipython",
    "version": 3
   },
   "file_extension": ".py",
   "mimetype": "text/x-python",
   "name": "python",
   "nbconvert_exporter": "python",
   "pygments_lexer": "ipython3",
   "version": "3.5.2"
  }
 },
 "nbformat": 4,
 "nbformat_minor": 2
}
