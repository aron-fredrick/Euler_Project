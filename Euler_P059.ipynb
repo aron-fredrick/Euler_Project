{
 "cells": [
  {
   "cell_type": "code",
   "execution_count": 7,
   "metadata": {},
   "outputs": [],
   "source": [
    "infile = open('p059_cipher.txt','r')\n",
    "\n",
    "cypher = infile.readline().split(',')\n",
    "cypher = [int(chars) for chars in cypher]\n",
    "\n",
    "infile.close()"
   ]
  },
  {
   "cell_type": "code",
   "execution_count": 19,
   "metadata": {},
   "outputs": [],
   "source": [
    "not_allowed = list(range(0,32))\n",
    "not_allowed = not_allowed + [35,36,37,42,43,47,60,61,62,64,91,92,93,94,95,123,124,125,126,127]\n",
    "possible_keys = list(range(97,123))\n",
    "\n",
    "for key1 in possible_keys:\n",
    "    for key2 in possible_keys:\n",
    "        for key3 in possible_keys:\n",
    "            \n",
    "            cond = True\n",
    "            keys = [key1,key2,key3]\n",
    "            cypher_translated = []\n",
    "            index = 0\n",
    "            key_index = 0\n",
    "            \n",
    "            while index < len(cypher):\n",
    "                new_ascii = cypher[index]^keys[key_index]\n",
    "                if new_ascii in not_allowed:\n",
    "                    cond = False\n",
    "                else:\n",
    "                    cypher_translated.append(new_ascii)\n",
    "                index+=1\n",
    "                key_index = (key_index+1)%3\n",
    "            \n",
    "            if cond:\n",
    "                break\n",
    "        \n",
    "        if cond:\n",
    "            break\n",
    "    \n",
    "    if cond:\n",
    "        break\n",
    "        "
   ]
  },
  {
   "cell_type": "code",
   "execution_count": 22,
   "metadata": {},
   "outputs": [
    {
     "data": {
      "text/plain": [
       "\"(The Gospel of John, chapter 1) 1 In the beginning the Word already existed. He was with God, and he was God. 2 He was in the beginning with God. 3 He created everything there is. Nothing exists that he didn't make. 4 Life itself was in him, and this life gives light to everyone. 5 The light shines through the darkness, and the darkness can never extinguish it. 6 God sent John the Baptist 7 to tell everyone about the light so that everyone might believe because of his testimony. 8 John himself was not the light; he was only a witness to the light. 9 The one who is the true light, who gives light to everyone, was going to come into the world. 10 But although the world was made through him, the world didn't recognize him when he came. 11 Even in his own land and among his own people, he was not accepted. 12 But to all who believed him and accepted him, he gave the right to become children of God. 13 They are reborn! This is not a physical birth resulting from human passion or plan, this rebirth comes from God.14 So the Word became human and lived here on earth among us. He was full of unfailing love and faithfulness. And we have seen his glory, the glory of the only Son of the Father.\""
      ]
     },
     "execution_count": 22,
     "metadata": {},
     "output_type": "execute_result"
    }
   ],
   "source": [
    "''.join(chr(ii) for ii in cypher_translated)"
   ]
  },
  {
   "cell_type": "code",
   "execution_count": 23,
   "metadata": {},
   "outputs": [
    {
     "data": {
      "text/plain": [
       "107359"
      ]
     },
     "execution_count": 23,
     "metadata": {},
     "output_type": "execute_result"
    }
   ],
   "source": [
    "sum(cypher_translated)"
   ]
  },
  {
   "cell_type": "code",
   "execution_count": null,
   "metadata": {
    "collapsed": true
   },
   "outputs": [],
   "source": []
  }
 ],
 "metadata": {
  "kernelspec": {
   "display_name": "Python 3",
   "language": "python",
   "name": "python3"
  },
  "language_info": {
   "codemirror_mode": {
    "name": "ipython",
    "version": 3
   },
   "file_extension": ".py",
   "mimetype": "text/x-python",
   "name": "python",
   "nbconvert_exporter": "python",
   "pygments_lexer": "ipython3",
   "version": "3.6.1"
  }
 },
 "nbformat": 4,
 "nbformat_minor": 2
}
