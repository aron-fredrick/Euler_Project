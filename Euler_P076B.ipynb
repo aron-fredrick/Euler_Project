{
 "cells": [
  {
   "cell_type": "code",
   "execution_count": 211,
   "metadata": {
    "collapsed": true
   },
   "outputs": [],
   "source": [
    "from math import floor\n",
    "import time"
   ]
  },
  {
   "cell_type": "code",
   "execution_count": 212,
   "metadata": {},
   "outputs": [
    {
     "data": {
      "text/plain": [
       "1538208330.3621986"
      ]
     },
     "execution_count": 212,
     "metadata": {},
     "output_type": "execute_result"
    }
   ],
   "source": [
    "time.time()"
   ]
  },
  {
   "cell_type": "code",
   "execution_count": 130,
   "metadata": {
    "collapsed": true
   },
   "outputs": [],
   "source": [
    "def CS(n):\n",
    "    if n == 0 or n == 1:\n",
    "        return 1\n",
    "    else:\n",
    "        c = 0\n",
    "        for ii in range(n-1,0,-1):\n",
    "            for jj in range(int(floor((n)/ii)),0,-1):\n",
    "                if (n-jj*ii)<ii:\n",
    "                    c+= CS(n-jj*ii)\n",
    "                else:\n",
    "                    c+=1\n",
    "        return c"
   ]
  },
  {
   "cell_type": "code",
   "execution_count": 227,
   "metadata": {},
   "outputs": [],
   "source": [
    "def CS(n,nmax):\n",
    "    if n==1 and nmax==0:\n",
    "        return 0\n",
    "    if nmax>=n:\n",
    "        nmax = n-1\n",
    "    if n == 0 or n == 1:\n",
    "        return 1\n",
    "    if nmax == 1:\n",
    "        return 1\n",
    "    else:\n",
    "        c = 0\n",
    "        for ii in range(nmax,0,-1):\n",
    "            for jj in range(int(floor((n)/ii)),0,-1):\n",
    "                nnew = n-jj*ii\n",
    "                c+= CS(nnew,ii-1)\n",
    "\n",
    "        return c"
   ]
  },
  {
   "cell_type": "code",
   "execution_count": 246,
   "metadata": {},
   "outputs": [
    {
     "name": "stdout",
     "output_type": "stream",
     "text": [
      "146.3813328742981\n",
      "190569291\n"
     ]
    }
   ],
   "source": [
    "start = time.time()\n",
    "N = 100\n",
    "Nlist = list(range(N-1,0,-1))\n",
    "sol=CS(N,Nlist)\n",
    "end = time.time()\n",
    "print(end-start)\n",
    "print(sol)"
   ]
  },
  {
   "cell_type": "code",
   "execution_count": 230,
   "metadata": {},
   "outputs": [],
   "source": [
    "def CS(n,nlist):\n",
    "    if len(nlist)==1:\n",
    "        return 1\n",
    "    c=0\n",
    "    for ii in range(int(floor(n/nlist[0])),-1,-1):\n",
    "        newn = n-ii*nlist[0]\n",
    "        c+=CS(newn,nlist[1::])\n",
    "    return c"
   ]
  },
  {
   "cell_type": "code",
   "execution_count": 233,
   "metadata": {},
   "outputs": [
    {
     "data": {
      "text/plain": [
       "[5, 4, 3, 2, 1]"
      ]
     },
     "execution_count": 233,
     "metadata": {},
     "output_type": "execute_result"
    }
   ],
   "source": [
    "list(range(N-1,0,-1))"
   ]
  },
  {
   "cell_type": "code",
   "execution_count": null,
   "metadata": {
    "collapsed": true
   },
   "outputs": [],
   "source": []
  }
 ],
 "metadata": {
  "kernelspec": {
   "display_name": "Python 3",
   "language": "python",
   "name": "python3"
  },
  "language_info": {
   "codemirror_mode": {
    "name": "ipython",
    "version": 3
   },
   "file_extension": ".py",
   "mimetype": "text/x-python",
   "name": "python",
   "nbconvert_exporter": "python",
   "pygments_lexer": "ipython3",
   "version": "3.6.1"
  }
 },
 "nbformat": 4,
 "nbformat_minor": 2
}
