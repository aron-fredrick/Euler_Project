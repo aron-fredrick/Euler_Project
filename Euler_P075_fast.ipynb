{
 "cells": [
  {
   "cell_type": "code",
   "execution_count": 3,
   "metadata": {},
   "outputs": [],
   "source": [
    "lenDict = {}\n",
    "nmax = 1.5*(10**2)\n",
    "for a in range(5278,int(nmax/3)):\n",
    "    for b in range(a,int(nmax/3)):\n",
    "        c = (a**2 + b**2)**(1/2)\n",
    "        \n",
    "        if c%1 == 0:\n",
    "            l = int(a + b +c)\n",
    "            if l not in lenDict:\n",
    "                lenDict[l] = 1\n",
    "                #mult = 2\n",
    "                #while mult*l <= nmax:\n",
    "            else:\n",
    "                lenDict[l]+=1"
   ]
  },
  {
   "cell_type": "code",
   "execution_count": 2,
   "metadata": {},
   "outputs": [],
   "source": [
    "import numpy as np\n",
    "from utils.Useful_Functions import gcd"
   ]
  },
  {
   "cell_type": "code",
   "execution_count": 70,
   "metadata": {},
   "outputs": [
    {
     "data": {
      "text/plain": [
       "{}"
      ]
     },
     "execution_count": 70,
     "metadata": {},
     "output_type": "execute_result"
    }
   ],
   "source": [
    "lenDict"
   ]
  },
  {
   "cell_type": "code",
   "execution_count": 78,
   "metadata": {},
   "outputs": [],
   "source": [
    "import time"
   ]
  },
  {
   "cell_type": "code",
   "execution_count": 80,
   "metadata": {},
   "outputs": [
    {
     "name": "stdout",
     "output_type": "stream",
     "text": [
      "1597.9516322612762\n"
     ]
    }
   ],
   "source": [
    "start = time.time()\n",
    "nmax = int(1.5*(10**5))\n",
    "lenList = list(range(2,nmax+1,2))\n",
    "countList = list(np.zeros(len(lenList)))\n",
    "\n",
    "idx = 0\n",
    "while idx<len(lenList):\n",
    "    \n",
    "    if countList[idx]==0:\n",
    "        l = lenList[idx]\n",
    "\n",
    "        for a in range(1,int(l/3)+1):\n",
    "                b = (l*(l-2*a))/(2*(l-a))\n",
    "\n",
    "                if b%1 == 0:\n",
    "                    #print(l)\n",
    "                    mult = 1\n",
    "                    while mult*l < nmax:\n",
    "                        try:\n",
    "                            idxcheck = lenList.index(mult*l)\n",
    "                            if countList[idxcheck]>0:\n",
    "                                #print(lenList[idxcheck],countList[idxcheck])\n",
    "                                lenList = lenList[:idxcheck]+lenList[idxcheck+1:]\n",
    "                                countList = countList[:idxcheck]+countList[idxcheck+1:]\n",
    "                            else:\n",
    "                                countList[idxcheck]+=1\n",
    "                            mult+=1\n",
    "                        except:\n",
    "                            mult+=1\n",
    "\n",
    "                    break\n",
    "\n",
    "        if countList[idx] == 0:\n",
    "            lenList = lenList[:idx]+lenList[idx+1:]\n",
    "            countList = countList[:idx]+countList[idx+1:]\n",
    "        else:\n",
    "            idx+=1\n",
    "    \n",
    "    else:\n",
    "        idx+=1\n",
    "        \n",
    "end = time.time()\n",
    "print(end-start)"
   ]
  },
  {
   "cell_type": "code",
   "execution_count": null,
   "metadata": {},
   "outputs": [],
   "source": []
  },
  {
   "cell_type": "code",
   "execution_count": 81,
   "metadata": {},
   "outputs": [
    {
     "data": {
      "text/plain": [
       "21046"
      ]
     },
     "execution_count": 81,
     "metadata": {},
     "output_type": "execute_result"
    }
   ],
   "source": [
    "len(countList)"
   ]
  },
  {
   "cell_type": "code",
   "execution_count": 83,
   "metadata": {},
   "outputs": [],
   "source": [
    "def gcd(a,b):\n",
    "    # calculate greatest common divisor of a and b\n",
    "    if a==b:\n",
    "        return a\n",
    "    elif a<b:\n",
    "        tempa = b\n",
    "        b = a\n",
    "        a = tempa\n",
    "    \n",
    "    rem = a%b\n",
    "    \n",
    "    if rem == 0:\n",
    "        return b\n",
    "    else:\n",
    "        return gcd(b,rem)"
   ]
  },
  {
   "cell_type": "code",
   "execution_count": 89,
   "metadata": {},
   "outputs": [
    {
     "name": "stdout",
     "output_type": "stream",
     "text": [
      "1.7832319736480713\n",
      "161667.0\n"
     ]
    }
   ],
   "source": [
    "start = time.time()\n",
    "\n",
    "lmax = int(1.5*(10**6))\n",
    "cmax = int((lmax-1)/2)\n",
    "\n",
    "\n",
    "lList = np.zeros(lmax+1)\n",
    "\n",
    "\n",
    "for m in range(2,int((cmax-1)**(1/2))+1):\n",
    "    if m%2 == 0:\n",
    "        nstart = 1\n",
    "    else: \n",
    "        nstart = 2\n",
    "    for n in range(nstart,m,2):\n",
    "        \n",
    "        if (n**2 + m**2)>cmax:\n",
    "            break\n",
    "        \n",
    "        if gcd(n,m)!=1:\n",
    "            continue\n",
    "            \n",
    "        a = (m**2 - n**2)\n",
    "        b = (2*m*n)\n",
    "        c = (m**2 + n**2)\n",
    "        l = a + b + c\n",
    "        \n",
    "        k = 1\n",
    "        \n",
    "        while k*l <= lmax:\n",
    "            lList[k*l]+=1\n",
    "            k+=1\n",
    "        \n",
    "\n",
    "end = time.time()\n",
    "print(end-start)\n",
    "print(sum([l for l in lList if l==1]))"
   ]
  },
  {
   "cell_type": "code",
   "execution_count": null,
   "metadata": {},
   "outputs": [],
   "source": []
  },
  {
   "cell_type": "code",
   "execution_count": null,
   "metadata": {
    "collapsed": true
   },
   "outputs": [],
   "source": []
  }
 ],
 "metadata": {
  "anaconda-cloud": {},
  "kernelspec": {
   "display_name": "Python 3",
   "language": "python",
   "name": "python3"
  },
  "language_info": {
   "codemirror_mode": {
    "name": "ipython",
    "version": 3
   },
   "file_extension": ".py",
   "mimetype": "text/x-python",
   "name": "python",
   "nbconvert_exporter": "python",
   "pygments_lexer": "ipython3",
   "version": "3.7.4"
  }
 },
 "nbformat": 4,
 "nbformat_minor": 2
}
