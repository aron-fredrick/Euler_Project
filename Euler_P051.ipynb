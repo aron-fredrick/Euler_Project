{
 "cells": [
  {
   "cell_type": "code",
   "execution_count": 1,
   "metadata": {
    "collapsed": true
   },
   "outputs": [],
   "source": [
    "def primes(N_max):\n",
    "    prime_numbers = [2]\n",
    "    test = True\n",
    "    N = 3\n",
    "    \n",
    "    while prime_numbers[-1] < N_max:\n",
    "        isprime = True\n",
    "        for prime in prime_numbers:\n",
    "            if N%prime == 0:\n",
    "                isprime = False\n",
    "                break\n",
    "        if isprime:\n",
    "            if N > N_max:\n",
    "                break\n",
    "            prime_numbers.append(N)\n",
    "        N = N + 2\n",
    "    return prime_numbers"
   ]
  },
  {
   "cell_type": "code",
   "execution_count": 2,
   "metadata": {
    "collapsed": true
   },
   "outputs": [],
   "source": [
    "def next_prime(prime_numbers = []):\n",
    "    if len(prime_numbers)<=1:\n",
    "        prime_numbers = [2]\n",
    "        N = 3\n",
    "    else:\n",
    "        N = prime_numbers[-1]+2\n",
    "    test = True\n",
    "    assert N%2 == 1\n",
    "        \n",
    "    \n",
    "    while test:\n",
    "        isprime = True\n",
    "        for prime in prime_numbers:\n",
    "            if N%prime == 0:\n",
    "                isprime = False\n",
    "                break\n",
    "        if isprime:\n",
    "            prime_numbers.append(N)\n",
    "            test = False\n",
    "        N = N + 2\n",
    "    return prime_numbers"
   ]
  },
  {
   "cell_type": "code",
   "execution_count": 3,
   "metadata": {
    "collapsed": true
   },
   "outputs": [],
   "source": [
    "primes_list = primes(1000000)"
   ]
  },
  {
   "cell_type": "code",
   "execution_count": 44,
   "metadata": {
    "collapsed": true
   },
   "outputs": [],
   "source": [
    "index = 0\n",
    "while primes_list[index]<10000:\n",
    "    index+=1"
   ]
  },
  {
   "cell_type": "code",
   "execution_count": 8,
   "metadata": {},
   "outputs": [
    {
     "data": {
      "text/plain": [
       "10007"
      ]
     },
     "execution_count": 8,
     "metadata": {},
     "output_type": "execute_result"
    }
   ],
   "source": [
    "primes_list[index]"
   ]
  },
  {
   "cell_type": "code",
   "execution_count": 45,
   "metadata": {},
   "outputs": [
    {
     "data": {
      "text/plain": [
       "1229"
      ]
     },
     "execution_count": 45,
     "metadata": {},
     "output_type": "execute_result"
    }
   ],
   "source": [
    "index"
   ]
  },
  {
   "cell_type": "code",
   "execution_count": 60,
   "metadata": {
    "scrolled": true
   },
   "outputs": [],
   "source": [
    "index = 1229\n",
    "eight_primes = []\n",
    "nprimes = 8\n",
    "while len(eight_primes)<nprimes:\n",
    "    \n",
    "    eight_primes = []\n",
    "    \n",
    "    p1 = primes_list[index]\n",
    "    p1str = str(p1)\n",
    "    \n",
    "    for ii in range(0,len(p1str)):\n",
    "        letter = p1str[ii]\n",
    "        if letter in p1str[:ii]+p1str[ii+1:]:\n",
    "            number1 = letter\n",
    "            eight_primes.append(p1)\n",
    "            break\n",
    "            \n",
    "    if len(eight_primes)==0:\n",
    "        index+=1\n",
    "        continue\n",
    "        \n",
    "    count = 0\n",
    "    number = 0\n",
    "    while count < (11-nprimes) and number < 10:\n",
    "        if str(number)!=number1:\n",
    "            pnewstr = p1str.replace(number1,str(number))\n",
    "            pnew = int(pnewstr)\n",
    "            \n",
    "            if pnew in primes_list and len(str(pnew))==len(p1str):\n",
    "                eight_primes.append(pnew)\n",
    "            else:\n",
    "                count+=1\n",
    "        \n",
    "        number+=1\n",
    "        \n",
    "        \n",
    "    index+=1\n",
    "    \n",
    "    \n",
    "    \n",
    "            "
   ]
  },
  {
   "cell_type": "code",
   "execution_count": 61,
   "metadata": {},
   "outputs": [
    {
     "data": {
      "text/plain": [
       "11415"
      ]
     },
     "execution_count": 61,
     "metadata": {},
     "output_type": "execute_result"
    }
   ],
   "source": [
    "index"
   ]
  },
  {
   "cell_type": "code",
   "execution_count": 62,
   "metadata": {},
   "outputs": [
    {
     "data": {
      "text/plain": [
       "[121313, 222323, 323333, 424343, 525353, 626363, 828383, 929393]"
      ]
     },
     "execution_count": 62,
     "metadata": {},
     "output_type": "execute_result"
    }
   ],
   "source": [
    "eight_primes"
   ]
  },
  {
   "cell_type": "code",
   "execution_count": null,
   "metadata": {
    "collapsed": true
   },
   "outputs": [],
   "source": []
  }
 ],
 "metadata": {
  "kernelspec": {
   "display_name": "Python 3",
   "language": "python",
   "name": "python3"
  },
  "language_info": {
   "codemirror_mode": {
    "name": "ipython",
    "version": 3
   },
   "file_extension": ".py",
   "mimetype": "text/x-python",
   "name": "python",
   "nbconvert_exporter": "python",
   "pygments_lexer": "ipython3",
   "version": "3.6.1"
  }
 },
 "nbformat": 4,
 "nbformat_minor": 2
}
