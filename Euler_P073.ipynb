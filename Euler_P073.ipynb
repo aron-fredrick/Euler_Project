{
 "cells": [
  {
   "cell_type": "code",
   "execution_count": 1,
   "metadata": {
    "collapsed": true
   },
   "outputs": [],
   "source": [
    "import time\n",
    "import numpy as np"
   ]
  },
  {
   "cell_type": "code",
   "execution_count": 11,
   "metadata": {
    "collapsed": false
   },
   "outputs": [
    {
     "name": "stdout",
     "output_type": "stream",
     "text": [
      "7295372\n",
      "134.20929384231567\n"
     ]
    }
   ],
   "source": [
    "\n",
    "start=time.time()\n",
    "\n",
    "n = 12000\n",
    "M = np.ones((n,n),dtype='int8')\n",
    "M = np.tril(M,-1)\n",
    "count = 0\n",
    "\n",
    "for ii in range(1,n):\n",
    "    for jj in range(0,ii):\n",
    "        \n",
    "        if M[ii,jj]==1:\n",
    "            num = jj + 1\n",
    "            den = ii + 1\n",
    "            \n",
    "            if 1/3 < num/den < 1/2:\n",
    "                count+=1\n",
    "            \n",
    "            mult = 2\n",
    "            \n",
    "            while den*mult<=n:\n",
    "                M[mult*den-1,mult*num-1] = 0\n",
    "                \n",
    "                mult+=1\n",
    "                \n",
    "print(count)\n",
    "end = time.time()\n",
    "print(end-start)"
   ]
  },
  {
   "cell_type": "code",
   "execution_count": null,
   "metadata": {
    "collapsed": false
   },
   "outputs": [],
   "source": []
  },
  {
   "cell_type": "code",
   "execution_count": null,
   "metadata": {
    "collapsed": true
   },
   "outputs": [],
   "source": []
  }
 ],
 "metadata": {
  "anaconda-cloud": {},
  "kernelspec": {
   "display_name": "Python [conda env:Anaconda3]",
   "language": "python",
   "name": "conda-env-Anaconda3-py"
  },
  "language_info": {
   "codemirror_mode": {
    "name": "ipython",
    "version": 3
   },
   "file_extension": ".py",
   "mimetype": "text/x-python",
   "name": "python",
   "nbconvert_exporter": "python",
   "pygments_lexer": "ipython3",
   "version": "3.5.2"
  }
 },
 "nbformat": 4,
 "nbformat_minor": 2
}
