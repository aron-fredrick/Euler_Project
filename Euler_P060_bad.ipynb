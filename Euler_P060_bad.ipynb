{
 "cells": [
  {
   "cell_type": "code",
   "execution_count": 4,
   "metadata": {},
   "outputs": [],
   "source": [
    "import numpy as np\n",
    "\n",
    "def isprime(n):\n",
    "    # checks to see if a number, n, is prime\n",
    "    import numpy as np\n",
    "    prime = True\n",
    "    if n>=2:\n",
    "        \n",
    "        for ii in range(2,int(np.ceil(np.sqrt(n)))):\n",
    "            if n%ii == 0:\n",
    "                prime = False\n",
    "                break\n",
    "    else:\n",
    "        prime = False\n",
    "    return prime\n",
    "\n",
    "def get_primes(n):\n",
    "    # same as primes, but faster\n",
    "    m = n+1\n",
    "    numbers = [True] * m\n",
    "    for i in range(2, int(n**0.5 + 1)):\n",
    "        if numbers[i]:\n",
    "            for j in range(i*i, m, i):\n",
    "                numbers[j] = False\n",
    "    primes1 = []\n",
    "    for i in range(2, m):\n",
    "        if numbers[i]:\n",
    "            primes1.append(i)\n",
    "    return primes1\n",
    "\n",
    "def concat_check(nlist):\n",
    "    # check if all the various concatenations in a list come out prime\n",
    "    all_prime = True\n",
    "    index = 0\n",
    "    while index<len(nlist) and all_prime:\n",
    "        \n",
    "        n1 = nlist[index]\n",
    "        nlist2 = nlist[0:index]+nlist[index+1:]\n",
    "        \n",
    "        for n2 in nlist2:\n",
    "            ntest = int(str(n1)+str(n2))\n",
    "            if not isprime(ntest):\n",
    "                all_prime = False\n",
    "                break\n",
    "        \n",
    "        index += 1\n",
    "    \n",
    "    return all_prime\n",
    "    \n",
    "    \n",
    "def next_indices(pindices):\n",
    "    # gives the next set of indices after a given set, increasing 1 index by one\n",
    "    pdiff = list(np.diff(pindices))\n",
    "    \n",
    "    #inx = len(pdiff)-1-pdiff[::-1].index(1)\n",
    "    inx = 0\n",
    "    while inx < len(pdiff) and pdiff[inx] == 1:\n",
    "        inx+=1\n",
    "    \n",
    "    return list(range(0,inx))+[pindices[inx]+1]+pindices[inx+1::]    "
   ]
  },
  {
   "cell_type": "code",
   "execution_count": 2,
   "metadata": {},
   "outputs": [],
   "source": [
    "plist = get_primes(10**5)"
   ]
  },
  {
   "cell_type": "code",
   "execution_count": 11,
   "metadata": {},
   "outputs": [
    {
     "ename": "KeyboardInterrupt",
     "evalue": "",
     "output_type": "error",
     "traceback": [
      "\u001b[1;31m---------------------------------------------------------------------------\u001b[0m",
      "\u001b[1;31mKeyboardInterrupt\u001b[0m                         Traceback (most recent call last)",
      "\u001b[1;32m<ipython-input-11-6e08157453cd>\u001b[0m in \u001b[0;36m<module>\u001b[1;34m()\u001b[0m\n\u001b[0;32m     13\u001b[0m             \u001b[0mpsum\u001b[0m \u001b[1;33m=\u001b[0m \u001b[0mtest_sum\u001b[0m\u001b[1;33m\u001b[0m\u001b[0m\n\u001b[0;32m     14\u001b[0m \u001b[1;33m\u001b[0m\u001b[0m\n\u001b[1;32m---> 15\u001b[1;33m     \u001b[0mpindices\u001b[0m \u001b[1;33m=\u001b[0m \u001b[0mnext_indices\u001b[0m\u001b[1;33m(\u001b[0m\u001b[0mpindices\u001b[0m\u001b[1;33m)\u001b[0m\u001b[1;33m\u001b[0m\u001b[0m\n\u001b[0m",
      "\u001b[1;32m<ipython-input-3-364ec95fc4a4>\u001b[0m in \u001b[0;36mnext_indices\u001b[1;34m(pindices)\u001b[0m\n\u001b[0;32m      1\u001b[0m \u001b[1;32mdef\u001b[0m \u001b[0mnext_indices\u001b[0m\u001b[1;33m(\u001b[0m\u001b[0mpindices\u001b[0m\u001b[1;33m)\u001b[0m\u001b[1;33m:\u001b[0m\u001b[1;33m\u001b[0m\u001b[0m\n\u001b[1;32m----> 2\u001b[1;33m     \u001b[0mpdiff\u001b[0m \u001b[1;33m=\u001b[0m \u001b[0mlist\u001b[0m\u001b[1;33m(\u001b[0m\u001b[0mnp\u001b[0m\u001b[1;33m.\u001b[0m\u001b[0mdiff\u001b[0m\u001b[1;33m(\u001b[0m\u001b[0mpindices\u001b[0m\u001b[1;33m)\u001b[0m\u001b[1;33m)\u001b[0m\u001b[1;33m\u001b[0m\u001b[0m\n\u001b[0m\u001b[0;32m      3\u001b[0m \u001b[1;33m\u001b[0m\u001b[0m\n\u001b[0;32m      4\u001b[0m     \u001b[1;31m#inx = len(pdiff)-1-pdiff[::-1].index(1)\u001b[0m\u001b[1;33m\u001b[0m\u001b[1;33m\u001b[0m\u001b[0m\n\u001b[0;32m      5\u001b[0m     \u001b[0minx\u001b[0m \u001b[1;33m=\u001b[0m \u001b[1;36m0\u001b[0m\u001b[1;33m\u001b[0m\u001b[0m\n",
      "\u001b[1;31mKeyboardInterrupt\u001b[0m: "
     ]
    }
   ],
   "source": [
    "#psum = 10**12\n",
    "#pindices = [0,1,2,3,4]\n",
    "\n",
    "while plist[pindices[-1]] < psum:\n",
    "    \n",
    "    test_primes = [plist[ii] for ii in pindices]\n",
    "    test_sum = sum(test_primes)\n",
    "    \n",
    "    if test_sum < psum:\n",
    "        cond = concat_check(test_primes)\n",
    "        \n",
    "        if cond: \n",
    "            psum = test_sum\n",
    "    \n",
    "    pindices = next_indices(pindices)"
   ]
  },
  {
   "cell_type": "code",
   "execution_count": 12,
   "metadata": {},
   "outputs": [
    {
     "data": {
      "text/plain": [
       "1000000000000"
      ]
     },
     "execution_count": 12,
     "metadata": {},
     "output_type": "execute_result"
    }
   ],
   "source": [
    "psum"
   ]
  },
  {
   "cell_type": "code",
   "execution_count": 13,
   "metadata": {},
   "outputs": [
    {
     "data": {
      "text/plain": [
       "[73, 163, 173, 521, 1019]"
      ]
     },
     "execution_count": 13,
     "metadata": {},
     "output_type": "execute_result"
    }
   ],
   "source": [
    "test_primes"
   ]
  },
  {
   "cell_type": "code",
   "execution_count": null,
   "metadata": {
    "collapsed": true
   },
   "outputs": [],
   "source": []
  }
 ],
 "metadata": {
  "kernelspec": {
   "display_name": "Python 3",
   "language": "python",
   "name": "python3"
  },
  "language_info": {
   "codemirror_mode": {
    "name": "ipython",
    "version": 3
   },
   "file_extension": ".py",
   "mimetype": "text/x-python",
   "name": "python",
   "nbconvert_exporter": "python",
   "pygments_lexer": "ipython3",
   "version": "3.6.1"
  }
 },
 "nbformat": 4,
 "nbformat_minor": 2
}
