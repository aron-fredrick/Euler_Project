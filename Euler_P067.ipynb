{
 "cells": [
  {
   "cell_type": "code",
   "execution_count": 1,
   "metadata": {
    "collapsed": true
   },
   "outputs": [],
   "source": [
    "import numpy as np"
   ]
  },
  {
   "cell_type": "code",
   "execution_count": 24,
   "metadata": {},
   "outputs": [
    {
     "data": {
      "text/plain": [
       "7273.0"
      ]
     },
     "execution_count": 24,
     "metadata": {},
     "output_type": "execute_result"
    }
   ],
   "source": [
    "infile = open('euler_p67.txt','r')\n",
    "\n",
    "num_lines = sum(1 for line in infile)\n",
    "gsize = num_lines\n",
    "\n",
    "infile.seek(0)\n",
    "\n",
    "triangle = np.zeros((gsize,gsize))\n",
    "sum_triangle = np.zeros((gsize,gsize))\n",
    "\n",
    "row = 0\n",
    "for line in infile:\n",
    "    line = line.strip('\\n')\n",
    "    line_numbers = list(map(int,line.split(' ')))\n",
    "    triangle[row,0:len(line_numbers)] = line_numbers\n",
    "    row = row+1\n",
    "\n",
    "infile.close()\n",
    "\n",
    "sum_triangle[0,0]= triangle[0,0]\n",
    "\n",
    "for ii in range(1,gsize):\n",
    "    for jj in range(0,gsize):\n",
    "        if jj == 0:\n",
    "            sum_triangle[ii,jj] = sum_triangle[ii-1,jj]+triangle[ii,jj]\n",
    "        else:\n",
    "            sum_triangle[ii,jj] = max(sum_triangle[ii-1,jj-1],sum_triangle[ii-1,jj])+triangle[ii,jj]\n",
    "\n",
    "max(sum_triangle[gsize-1,:])"
   ]
  },
  {
   "cell_type": "code",
   "execution_count": 25,
   "metadata": {},
   "outputs": [
    {
     "data": {
      "text/plain": [
       "array([[   59.,     0.,     0., ...,     0.,     0.,     0.],\n",
       "       [  132.,   100.,     0., ...,     0.,     0.,     0.],\n",
       "       [  184.,   172.,   109., ...,     0.,     0.,     0.],\n",
       "       ..., \n",
       "       [ 5086.,  5318.,  5336., ...,  4742.,     0.,     0.],\n",
       "       [ 5116.,  5329.,  5421., ...,  5015.,  4810.,     0.],\n",
       "       [ 5139.,  5362.,  5465., ...,  5137.,  5078.,  4845.]])"
      ]
     },
     "execution_count": 25,
     "metadata": {},
     "output_type": "execute_result"
    }
   ],
   "source": [
    "sum_triangle"
   ]
  },
  {
   "cell_type": "code",
   "execution_count": null,
   "metadata": {
    "collapsed": true
   },
   "outputs": [],
   "source": []
  }
 ],
 "metadata": {
  "kernelspec": {
   "display_name": "Python 3",
   "language": "python",
   "name": "python3"
  },
  "language_info": {
   "codemirror_mode": {
    "name": "ipython",
    "version": 3
   },
   "file_extension": ".py",
   "mimetype": "text/x-python",
   "name": "python",
   "nbconvert_exporter": "python",
   "pygments_lexer": "ipython3",
   "version": "3.6.1"
  }
 },
 "nbformat": 4,
 "nbformat_minor": 2
}
