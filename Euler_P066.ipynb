{
 "cells": [
  {
   "cell_type": "code",
   "execution_count": 86,
   "metadata": {
    "collapsed": true
   },
   "outputs": [],
   "source": [
    "import time\n",
    "import math\n",
    "import decimal"
   ]
  },
  {
   "cell_type": "code",
   "execution_count": 87,
   "metadata": {},
   "outputs": [],
   "source": [
    "decimal.getcontext().prec = 25"
   ]
  },
  {
   "cell_type": "code",
   "execution_count": 79,
   "metadata": {},
   "outputs": [
    {
     "name": "stdout",
     "output_type": "stream",
     "text": [
      "391044982.0 661 15209887\n",
      "14.744596004486084\n"
     ]
    }
   ],
   "source": [
    "t = time.time()\n",
    "maxD = 0\n",
    "xmax = 0\n",
    "for D in range(661,662):\n",
    "    if (D**(1/2))%1==0:\n",
    "        continue\n",
    "    cond = True\n",
    "    y=1\n",
    "    while cond:\n",
    "        x = decimal.Decimal(math.sqrt((1+D*(y)**2))))\n",
    "        if x%1==0:\n",
    "            cond = False\n",
    "            if x>xmax:\n",
    "                xmax = x\n",
    "                maxD = D\n",
    "                y_final = y\n",
    "        y+=1\n",
    "print(xmax,maxD,y_final)\n",
    "final_t = time.time()-t\n",
    "print(final_t)"
   ]
  },
  {
   "cell_type": "code",
   "execution_count": 24,
   "metadata": {},
   "outputs": [
    {
     "data": {
      "text/plain": [
       "1000"
      ]
     },
     "execution_count": 24,
     "metadata": {},
     "output_type": "execute_result"
    }
   ],
   "source": [
    "2178548422.0 778 78104745"
   ]
  },
  {
   "cell_type": "code",
   "execution_count": 77,
   "metadata": {},
   "outputs": [
    {
     "data": {
      "text/plain": [
       "15"
      ]
     },
     "execution_count": 77,
     "metadata": {},
     "output_type": "execute_result"
    }
   ],
   "source": [
    "391044982**2 - 661*15209887**2"
   ]
  },
  {
   "cell_type": "code",
   "execution_count": 95,
   "metadata": {},
   "outputs": [
    {
     "data": {
      "text/plain": [
       "Decimal('391044982')"
      ]
     },
     "execution_count": 95,
     "metadata": {},
     "output_type": "execute_result"
    }
   ],
   "source": [
    "decimal.Decimal(float((1+661*decimal.Decimal(y_final**2)))**(1/2))"
   ]
  },
  {
   "cell_type": "code",
   "execution_count": 75,
   "metadata": {
    "scrolled": false
   },
   "outputs": [
    {
     "name": "stdout",
     "output_type": "stream",
     "text": [
      "661 16421658242965910275055840472270471049 638728478116949861246791167518480580\n"
     ]
    }
   ],
   "source": [
    "# this is what works\n",
    "\n",
    "maxD = 0\n",
    "xmax = 0\n",
    "\n",
    "for N in range(2,1001):\n",
    "\n",
    "    if (N**(1/2))%1 == 0:\n",
    "        continue\n",
    "\n",
    "    nlist = []\n",
    "    flN = math.floor(N**(1/2))\n",
    "    A = math.floor((N**(1/2)+flN)/(N-flN**2))\n",
    "    nlist.append(A)\n",
    "\n",
    "    b1 = flN - A*(N-flN**2)\n",
    "    b2 = N - flN**2\n",
    "\n",
    "    cond = True\n",
    "    b1old = b1\n",
    "    b2old = b2\n",
    "\n",
    "    while cond:\n",
    "        B = math.floor(b2old*(N**(1/2)-b1old)/(N-b1old**2))\n",
    "        nlist.append(B)\n",
    "        b1new = - (b1old + B*(N-b1old**2)/b2old)\n",
    "        b2new = (N-b1old**2)/b2old\n",
    "\n",
    "        #print(B,b1new,b2new)\n",
    "\n",
    "        if b1new == b1 and b2new == b2:\n",
    "            cond = False\n",
    "\n",
    "        b1old = b1new\n",
    "        b2old = b2new\n",
    "\n",
    "    nlist.pop()\n",
    "\n",
    "    hm2 = 0\n",
    "    km2 = 1\n",
    "\n",
    "    hm1 = 1\n",
    "    km1 = 0\n",
    "\n",
    "    hn = flN\n",
    "    kn = 1\n",
    "\n",
    "    ix = -1\n",
    "    c = 0\n",
    "    while (hn**2 - N*(kn**2))!=1:\n",
    "\n",
    "        ix = (ix+1)%len(nlist)\n",
    "        an = nlist[ix]\n",
    "\n",
    "        hm2 = hm1\n",
    "        hm1 = hn\n",
    "        hn = an*hm1 + hm2\n",
    "\n",
    "\n",
    "        km2 = km1\n",
    "        km1 = kn\n",
    "        kn = an*km1 + km2\n",
    "    \n",
    "    if hn>xmax:\n",
    "        xmax = hn\n",
    "        maxD = N\n",
    "        ymax = kn\n",
    "\n",
    "print(maxD, xmax, ymax)"
   ]
  },
  {
   "cell_type": "code",
   "execution_count": 60,
   "metadata": {},
   "outputs": [
    {
     "data": {
      "text/plain": [
       "2"
      ]
     },
     "execution_count": 60,
     "metadata": {},
     "output_type": "execute_result"
    }
   ],
   "source": [
    "(1+1)%len(nlist)"
   ]
  },
  {
   "cell_type": "code",
   "execution_count": 54,
   "metadata": {},
   "outputs": [
    {
     "data": {
      "text/plain": [
       "[1, 1, 1, 4]"
      ]
     },
     "execution_count": 54,
     "metadata": {},
     "output_type": "execute_result"
    }
   ],
   "source": [
    "nlist"
   ]
  },
  {
   "cell_type": "code",
   "execution_count": null,
   "metadata": {
    "collapsed": true
   },
   "outputs": [],
   "source": []
  }
 ],
 "metadata": {
  "kernelspec": {
   "display_name": "Python 3",
   "language": "python",
   "name": "python3"
  },
  "language_info": {
   "codemirror_mode": {
    "name": "ipython",
    "version": 3
   },
   "file_extension": ".py",
   "mimetype": "text/x-python",
   "name": "python",
   "nbconvert_exporter": "python",
   "pygments_lexer": "ipython3",
   "version": "3.6.1"
  }
 },
 "nbformat": 4,
 "nbformat_minor": 2
}
