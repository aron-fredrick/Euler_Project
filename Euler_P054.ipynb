{
 "cells": [
  {
   "cell_type": "code",
   "execution_count": 125,
   "metadata": {
    "collapsed": true
   },
   "outputs": [],
   "source": [
    "# Assumes ordered hand lowest to highest\n",
    "def hand_rank(hand,hsuits):\n",
    "\n",
    "    big1 = 10**10\n",
    "    big2 = 10**8\n",
    "    big3 = 10**6\n",
    "    big4 = 10**4\n",
    "    big5 = 10**2\n",
    "    big6 = 10**0\n",
    "    \n",
    "    # check for flushes and straight flushes\n",
    "    if hsuits:\n",
    "        straight = True\n",
    "        straight_list = list(np.diff(hand))\n",
    "        for ii in straight_list:\n",
    "            if ii!=1:\n",
    "                straight = False\n",
    "                break\n",
    "                \n",
    "        if straight:\n",
    "            return 9*big1 + hand[-1]*big2\n",
    "        else:\n",
    "            return 6*big1 + hand[-1]*big2 + hand[-2]*big3 + hand[-3]*big4 + hand[-4]*big5 + hand[-5]*big6\n",
    "    \n",
    "    # check for regular straights\n",
    "    straight = True\n",
    "    straight_list = list(np.diff(hand))\n",
    "    for ii in straight_list:\n",
    "        if ii!=1:\n",
    "            straight = False\n",
    "            break\n",
    "\n",
    "    if straight:\n",
    "        return 5*big1 + hand[-1]*big2\n",
    "   \n",
    "    \n",
    "    # check for N of a kind\n",
    "    diff_list = list(np.diff(hand))\n",
    "    count = 0\n",
    "    for ii in diff_list:\n",
    "        if ii == 0:\n",
    "            count+=1\n",
    "    \n",
    "    if count == 3:\n",
    "        # 4 of a kind\n",
    "        if diff_list[0]!=0 or diff_list[-1]!=0:\n",
    "            if diff_list[0]==0:\n",
    "                return 8*big1 + hand[0]*big2 + hand[-1]*big3\n",
    "            else:\n",
    "                return 8*big1 + hand[-1]*big2 + hand[0]*big3\n",
    "        # full house\n",
    "        else:\n",
    "            if diff_list[1]==1:\n",
    "                return 7*big1 + hand[-1]*big2 + hand[0]*big3\n",
    "            else:\n",
    "                return 7*big1 + hand[0]*big2 + hand[-1]*big3\n",
    "            \n",
    "    elif count == 2:\n",
    "        # 3 of a kind    \n",
    "        idx0 = diff_list.index(0)\n",
    "        \n",
    "        if diff_list[idx0+1]==0:\n",
    "            triplet = hand[idx0]\n",
    "            hand.remove(triplet)\n",
    "            hand.remove(triplet)\n",
    "            hand.remove(triplet)\n",
    "            \n",
    "            return 4*big1 + triplet*big2 + hand[-1]*big3 + hand[0]*big4\n",
    "        \n",
    "        # 2 pair\n",
    "        else:\n",
    "            smallpair = hand[idx0]\n",
    "            idx1 = idx0 + 1 + diff_list[idx0+1:].index(0)\n",
    "            largepair = hand[idx1]\n",
    "            hand.remove(smallpair)\n",
    "            hand.remove(smallpair)\n",
    "            hand.remove(largepair)\n",
    "            hand.remove(largepair)\n",
    "            \n",
    "            return 3*big1 + largepair*big2 + smallpair*big3 + hand[0]*big4\n",
    "        \n",
    "    elif count == 1:\n",
    "        # pair \n",
    "        idx0 = diff_list.index(0)\n",
    "        pair = hand[idx0]\n",
    "        hand.remove(pair)\n",
    "        hand.remove(pair)\n",
    "        \n",
    "        return 2*big1 + pair*big2 + hand[-1]*big3 + hand[-2]*big4 + hand[-3]*big5\n",
    "    \n",
    "    else:\n",
    "        # high card\n",
    "        return 1*big1 + hand[-1]*big2 + hand[-2]*big3 + hand[-3]*big4 + hand[-4]*big5 + hand[-5]*big6\n",
    "    \n",
    "    \n",
    "    return 0"
   ]
  },
  {
   "cell_type": "code",
   "execution_count": 126,
   "metadata": {},
   "outputs": [
    {
     "data": {
      "text/plain": [
       "376"
      ]
     },
     "execution_count": 126,
     "metadata": {},
     "output_type": "execute_result"
    }
   ],
   "source": [
    "import numpy as np\n",
    "\n",
    "infile = open('p054_poker.txt','r')\n",
    "\n",
    "count = 0\n",
    "\n",
    "for hands in infile:\n",
    "    \n",
    "    hands = hands.strip('\\n')\n",
    "    #print(hands)\n",
    "\n",
    "    hands_list = list(hands)\n",
    "\n",
    "    h1 = []\n",
    "    h1suits = True\n",
    "\n",
    "    h2 = []\n",
    "    h2suits = True\n",
    "\n",
    "\n",
    "\n",
    "    # Creates and Sorts the two hands\n",
    "    for ii in range(0,15,3):\n",
    "        num = hands_list[ii]\n",
    "\n",
    "        if num == 'T':\n",
    "            num = '10'\n",
    "        elif num == 'J':\n",
    "            num = '11'\n",
    "        elif num == 'Q':\n",
    "            num = '12'\n",
    "        elif num == 'K':\n",
    "            num = '13'\n",
    "        elif num == 'A':\n",
    "            num = '14'\n",
    "\n",
    "        num = int(num)\n",
    "\n",
    "        suit = hands_list[ii+1]\n",
    "\n",
    "        if len(h1)==0:\n",
    "            h1.append(num)\n",
    "            suit0 = suit\n",
    "        else:\n",
    "            index = 0\n",
    "            if suit!=suit0:\n",
    "                h1suits = False\n",
    "            while index<len(h1):\n",
    "                if h1[index]>=num:\n",
    "                    h1.insert(index,num)\n",
    "                    break\n",
    "                index+=1\n",
    "            if index == len(h1):\n",
    "                h1.append(num)\n",
    "\n",
    "\n",
    "\n",
    "    for ii in range(15,len(hands_list),3):\n",
    "        num = hands_list[ii]\n",
    "\n",
    "        if num == 'T':\n",
    "            num = '10'\n",
    "        elif num == 'J':\n",
    "            num = '11'\n",
    "        elif num == 'Q':\n",
    "            num = '12'\n",
    "        elif num == 'K':\n",
    "            num = '13'\n",
    "        elif num == 'A':\n",
    "            num = '14'\n",
    "\n",
    "\n",
    "        num = int(num)\n",
    "\n",
    "        suit = hands_list[ii+1]\n",
    "\n",
    "        if len(h2)==0:\n",
    "            h2.append(num)\n",
    "            suit0 = suit\n",
    "        else:\n",
    "            index = 0\n",
    "            if suit!=suit0:\n",
    "                h2suits = False\n",
    "            while index<len(h2):\n",
    "                if h2[index]>=num:\n",
    "                    h2.insert(index,num)\n",
    "                    break\n",
    "                index+=1\n",
    "            if index == len(h2):\n",
    "                h2.append(num)   \n",
    "                \n",
    "    #print(h1,h1suits)\n",
    "    #print(h2,h2suits)\n",
    "\n",
    "    # Rank the 2 hands\n",
    "    r1 = hand_rank(h1,h1suits)\n",
    "    r2 = hand_rank(h2,h2suits)\n",
    "    \n",
    "    #print(r1,r2)\n",
    "    \n",
    "    if r1 > r2:\n",
    "        count+=1\n",
    "  \n",
    "            \n",
    "infile.close()\n",
    "\n",
    "count"
   ]
  },
  {
   "cell_type": "code",
   "execution_count": 115,
   "metadata": {},
   "outputs": [
    {
     "data": {
      "text/plain": [
       "11413050402"
      ]
     },
     "execution_count": 115,
     "metadata": {},
     "output_type": "execute_result"
    }
   ],
   "source": [
    "hand_rank([2,4,5,13,14],False)"
   ]
  },
  {
   "cell_type": "code",
   "execution_count": 122,
   "metadata": {},
   "outputs": [],
   "source": [
    "hands_list = list('5C AD 5D AC 9C 7C 5H 8D TD KS')\n",
    "h1 = []\n",
    "h1suits = True\n",
    "\n",
    "for ii in range(0,15,3):\n",
    "    num = hands_list[ii]\n",
    "\n",
    "    if num == 'T':\n",
    "        num = '10'\n",
    "    elif num == 'J':\n",
    "        num = '11'\n",
    "    elif num == 'Q':\n",
    "        num = '12'\n",
    "    elif num == 'K':\n",
    "        num = '13'\n",
    "    elif num == 'A':\n",
    "        num = '14'\n",
    "\n",
    "    num = int(num)\n",
    "\n",
    "    suit = hands_list[ii+1]\n",
    "\n",
    "    if len(h1)==0:\n",
    "        h1.append(num)\n",
    "        suit0 = suit\n",
    "    else:\n",
    "        index = 0\n",
    "        if suit!=suit0:\n",
    "            h1suits = False\n",
    "        while index<len(h1):\n",
    "            if h1[index]>=num:\n",
    "                h1.insert(index,num)\n",
    "                break\n",
    "            index+=1\n",
    "        if index == len(h1):\n",
    "            h1.append(num)"
   ]
  },
  {
   "cell_type": "code",
   "execution_count": 123,
   "metadata": {},
   "outputs": [
    {
     "data": {
      "text/plain": [
       "[5, 5, 9, 14, 14]"
      ]
     },
     "execution_count": 123,
     "metadata": {},
     "output_type": "execute_result"
    }
   ],
   "source": [
    "h1"
   ]
  },
  {
   "cell_type": "code",
   "execution_count": 110,
   "metadata": {},
   "outputs": [
    {
     "data": {
      "text/plain": [
       "array([1, 0])"
      ]
     },
     "execution_count": 110,
     "metadata": {},
     "output_type": "execute_result"
    }
   ],
   "source": [
    "h = [2,5,5,6,6][2:]\n",
    "np.diff(h)"
   ]
  },
  {
   "cell_type": "code",
   "execution_count": 68,
   "metadata": {},
   "outputs": [
    {
     "data": {
      "text/plain": [
       "array([1, 0, 0, 0])"
      ]
     },
     "execution_count": 68,
     "metadata": {},
     "output_type": "execute_result"
    }
   ],
   "source": [
    "np.diff(h)"
   ]
  },
  {
   "cell_type": "code",
   "execution_count": 93,
   "metadata": {},
   "outputs": [
    {
     "data": {
      "text/plain": [
       "1"
      ]
     },
     "execution_count": 93,
     "metadata": {},
     "output_type": "execute_result"
    }
   ],
   "source": [
    "[1,2,2].index(2)"
   ]
  },
  {
   "cell_type": "code",
   "execution_count": 98,
   "metadata": {},
   "outputs": [],
   "source": [
    "triplet = h[1]"
   ]
  },
  {
   "cell_type": "code",
   "execution_count": 102,
   "metadata": {
    "collapsed": true
   },
   "outputs": [],
   "source": [
    "h.remove(triplet)"
   ]
  },
  {
   "cell_type": "code",
   "execution_count": 103,
   "metadata": {},
   "outputs": [
    {
     "data": {
      "text/plain": [
       "[2, 4, 4, 10]"
      ]
     },
     "execution_count": 103,
     "metadata": {},
     "output_type": "execute_result"
    }
   ],
   "source": [
    "h"
   ]
  },
  {
   "cell_type": "code",
   "execution_count": null,
   "metadata": {
    "collapsed": true
   },
   "outputs": [],
   "source": []
  }
 ],
 "metadata": {
  "kernelspec": {
   "display_name": "Python 3",
   "language": "python",
   "name": "python3"
  },
  "language_info": {
   "codemirror_mode": {
    "name": "ipython",
    "version": 3
   },
   "file_extension": ".py",
   "mimetype": "text/x-python",
   "name": "python",
   "nbconvert_exporter": "python",
   "pygments_lexer": "ipython3",
   "version": "3.6.1"
  }
 },
 "nbformat": 4,
 "nbformat_minor": 2
}
