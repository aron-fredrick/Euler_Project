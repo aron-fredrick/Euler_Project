{
 "cells": [
  {
   "cell_type": "code",
   "execution_count": 1,
   "metadata": {
    "collapsed": true
   },
   "outputs": [],
   "source": [
    "from math import floor\n",
    "\n",
    "def CS(n,nlist):\n",
    "    if len(nlist)==1:\n",
    "        return 1\n",
    "    c=0\n",
    "    for ii in range(int(floor(n/nlist[0])),-1,-1):\n",
    "        newn = n-ii*nlist[0]\n",
    "        c+=CS(newn,nlist[1::])\n",
    "    return c"
   ]
  },
  {
   "cell_type": "code",
   "execution_count": null,
   "metadata": {},
   "outputs": [
    {
     "name": "stdout",
     "output_type": "stream",
     "text": [
      "110 607163746\n",
      "120 1844349560\n"
     ]
    }
   ],
   "source": [
    "#N = 2\n",
    "#Nlist = list(range(N,0,-1))\n",
    "#p = CS(N,Nlist)\n",
    "\n",
    "while p%1000000 != 0:\n",
    "    N+=1\n",
    "    Nlist = list(range(N,0,-1))\n",
    "    p = CS(N,Nlist)\n",
    "    if N%10==0:\n",
    "        print(N,p)\n"
   ]
  },
  {
   "cell_type": "code",
   "execution_count": 15,
   "metadata": {},
   "outputs": [
    {
     "data": {
      "text/plain": [
       "109"
      ]
     },
     "execution_count": 15,
     "metadata": {},
     "output_type": "execute_result"
    }
   ],
   "source": [
    "N"
   ]
  },
  {
   "cell_type": "code",
   "execution_count": null,
   "metadata": {},
   "outputs": [],
   "source": []
  },
  {
   "cell_type": "code",
   "execution_count": null,
   "metadata": {
    "collapsed": true
   },
   "outputs": [],
   "source": []
  }
 ],
 "metadata": {
  "kernelspec": {
   "display_name": "Python 3",
   "language": "python",
   "name": "python3"
  },
  "language_info": {
   "codemirror_mode": {
    "name": "ipython",
    "version": 3
   },
   "file_extension": ".py",
   "mimetype": "text/x-python",
   "name": "python",
   "nbconvert_exporter": "python",
   "pygments_lexer": "ipython3",
   "version": "3.6.1"
  }
 },
 "nbformat": 4,
 "nbformat_minor": 2
}
