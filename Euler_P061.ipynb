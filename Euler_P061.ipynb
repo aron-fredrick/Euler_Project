{
 "cells": [
  {
   "cell_type": "code",
   "execution_count": 24,
   "metadata": {
    "collapsed": true
   },
   "outputs": [],
   "source": [
    "import numpy as np\n",
    "\n",
    "def istriangle(Pt):\n",
    "    if ((-1+np.sqrt(1+8*Pt))/2)%1 == 0:\n",
    "        return True\n",
    "    else:\n",
    "        return False\n",
    "\n",
    "def oct_list(nmin,nmax):\n",
    "    o_list = []\n",
    "    n = 1\n",
    "    o_num = n*(3*n-2)\n",
    "    while o_num<nmax:\n",
    "        if o_num > nmin:\n",
    "            o_list.append(int(o_num))\n",
    "        n+=1\n",
    "        o_num = n*(3*n-2)\n",
    "    return o_list\n",
    "\n",
    "def hep_list(nmin,nmax):\n",
    "    h_list = []\n",
    "    n = 1\n",
    "    h_num = n*(5*n-3)/2\n",
    "    while h_num<nmax:\n",
    "        if h_num > nmin:\n",
    "            h_list.append(int(h_num))\n",
    "        n+=1\n",
    "        h_num = n*(5*n-3)/2\n",
    "    return h_list\n",
    "\n",
    "def hex_list(nmin,nmax):\n",
    "    o_list = []\n",
    "    n = 1\n",
    "    o_num = n*(2*n-1)\n",
    "    while o_num<nmax:\n",
    "        if o_num > nmin:\n",
    "            o_list.append(int(o_num))\n",
    "        n+=1\n",
    "        o_num = n*(2*n-1)\n",
    "    return o_list\n",
    "\n",
    "def pent_list(nmin,nmax):\n",
    "    o_list = []\n",
    "    n = 1\n",
    "    o_num = n*(3*n-1)/2\n",
    "    while o_num<nmax:\n",
    "        if o_num > nmin:\n",
    "            o_list.append(int(o_num))\n",
    "        n+=1\n",
    "        o_num = n*(3*n-1)/2\n",
    "    return o_list\n",
    "\n",
    "def sq_list(nmin,nmax):\n",
    "    o_list = []\n",
    "    n = 1\n",
    "    o_num = n*n\n",
    "    while o_num<nmax:\n",
    "        if o_num > nmin:\n",
    "            o_list.append(int(o_num))\n",
    "        n+=1\n",
    "        o_num = n*n\n",
    "    return o_list\n",
    "\n",
    "def tri_list(nmin,nmax):\n",
    "    o_list = []\n",
    "    n = 1\n",
    "    o_num = n*(n+1)/2\n",
    "    while o_num<nmax:\n",
    "        if o_num > nmin:\n",
    "            o_list.append(int(o_num))\n",
    "        n+=1\n",
    "        o_num = n*(n+1)/2\n",
    "    return o_list"
   ]
  },
  {
   "cell_type": "code",
   "execution_count": 28,
   "metadata": {},
   "outputs": [],
   "source": [
    "nums_dict = {\n",
    "    0:heps,\n",
    "    1:hexs,\n",
    "    2:pents,\n",
    "    3:sqs,\n",
    "    4:tris\n",
    "}"
   ]
  },
  {
   "cell_type": "code",
   "execution_count": 26,
   "metadata": {},
   "outputs": [],
   "source": [
    "nmin = 999\n",
    "nmax = 10000\n",
    "\n",
    "octs = oct_list(nmin,nmax)\n",
    "heps = hep_list(nmin,nmax)\n",
    "hexs = hex_list(nmin,nmax)\n",
    "pents = pent_list(nmin,nmax)\n",
    "sqs = sq_list(nmin,nmax)\n",
    "tris = tri_list(nmin,nmax)\n"
   ]
  },
  {
   "cell_type": "code",
   "execution_count": 93,
   "metadata": {},
   "outputs": [
    {
     "name": "stdout",
     "output_type": "stream",
     "text": [
      "[1281, 8128, 2882, 8256, 5625, 2512]\n",
      "28684\n"
     ]
    }
   ],
   "source": [
    "cond = False\n",
    "for oc in octs:\n",
    "    cyc_start1 = int(str(oc)[-2::])*100\n",
    "    if int(str(oc)[-2::]) < 10:\n",
    "                    continue\n",
    "    r = list(range(0,5))\n",
    "    for ii in range(0,5):\n",
    "        next_possible1 = [value for value in nums_dict[ii] if 10<=value-cyc_start1<100]\n",
    "        if len(next_possible1)>0:\n",
    "            for ix1 in next_possible1:\n",
    "                cyc_start2 = int(str(ix1)[-2::])*100\n",
    "                if cyc_start2 < 1000:\n",
    "                    continue\n",
    "                r1 = r[:ii]+r[ii+1:]\n",
    "                \n",
    "                for jj in r1:\n",
    "                    next_possible2 = [value for value in nums_dict[jj] if 10<=value-cyc_start2<100]\n",
    "                    if len(next_possible2)>0:\n",
    "                        for ix2 in next_possible2:\n",
    "                            cyc_start3 = int(str(ix2)[-2::])*100\n",
    "                            if cyc_start3 < 1000:\n",
    "                                continue\n",
    "                            idx = r1.index(jj)\n",
    "                            r2 = r1[:idx]+r1[idx+1:]\n",
    "                            \n",
    "                            for kk in r2:\n",
    "                                next_possible3 = [value for value in nums_dict[kk] if 10<=value-cyc_start3<100]\n",
    "                                if len(next_possible3)>0:\n",
    "                                    for ix3 in next_possible3:\n",
    "                                        cyc_start4 = int(str(ix3)[-2::])*100\n",
    "                                        if cyc_start4 < 1000:\n",
    "                                            continue\n",
    "                                        idx = r2.index(kk)\n",
    "                                        r3 = r2[:idx]+r2[idx+1:]\n",
    "                                        \n",
    "                                        for mm in r3:\n",
    "                                            next_possible4 = [value for value in nums_dict[mm] if 10<=value-cyc_start4<100]\n",
    "                                            if len(next_possible4)>0:\n",
    "                                                for ix4 in next_possible4:\n",
    "                                                    cyc_start5 = int(str(ix4)[-2::])*100\n",
    "                                                    if cyc_start5 < 1000:\n",
    "                                                        continue\n",
    "                                                    idx = r3.index(mm)\n",
    "                                                    r4 = r3[:idx]+r3[idx+1:]\n",
    "                                                    last_num = int(str(int(cyc_start5/100))+str(oc)[0:2])\n",
    "                                                    if last_num in nums_dict[r4[0]]:\n",
    "                                                        cond = True\n",
    "                                                        ans = [oc,ix1,ix2,ix3,ix4,last_num]\n",
    "                                                        break #out of ix4\n",
    "                                            if cond:\n",
    "                                                break # mm\n",
    "                                        if cond:\n",
    "                                            break #out of ix3\n",
    "                                if cond:\n",
    "                                    break # kk\n",
    "                            if cond:\n",
    "                                break # ix2\n",
    "                    if cond:\n",
    "                        break #jj\n",
    "                if cond:\n",
    "                    break #ix1\n",
    "        if cond:\n",
    "            break #ii\n",
    "    if cond:\n",
    "        break #oc\n",
    "\n",
    "print(ans)\n",
    "print(sum(ans))"
   ]
  },
  {
   "cell_type": "code",
   "execution_count": 88,
   "metadata": {},
   "outputs": [
    {
     "name": "stdout",
     "output_type": "stream",
     "text": [
      "[9025]\n"
     ]
    }
   ],
   "source": [
    "next_possible1 = [value for value in nums_dict[ii] if (value%cyc_start1)<100]\n",
    "print(next_possible1)"
   ]
  },
  {
   "cell_type": "code",
   "execution_count": 94,
   "metadata": {},
   "outputs": [
    {
     "data": {
      "text/plain": [
       "[1, 2, 4, 3]"
      ]
     },
     "execution_count": 94,
     "metadata": {},
     "output_type": "execute_result"
    }
   ],
   "source": [
    "[ii,jj,kk,mm]"
   ]
  },
  {
   "cell_type": "code",
   "execution_count": 38,
   "metadata": {},
   "outputs": [
    {
     "data": {
      "text/plain": [
       "[4558]"
      ]
     },
     "execution_count": 38,
     "metadata": {},
     "output_type": "execute_result"
    }
   ],
   "source": [
    "[value for value in heps if value%4500<100]"
   ]
  },
  {
   "cell_type": "code",
   "execution_count": null,
   "metadata": {},
   "outputs": [],
   "source": []
  },
  {
   "cell_type": "code",
   "execution_count": null,
   "metadata": {},
   "outputs": [],
   "source": []
  },
  {
   "cell_type": "code",
   "execution_count": null,
   "metadata": {},
   "outputs": [],
   "source": [
    "\n"
   ]
  },
  {
   "cell_type": "code",
   "execution_count": null,
   "metadata": {},
   "outputs": [],
   "source": []
  },
  {
   "cell_type": "code",
   "execution_count": null,
   "metadata": {
    "collapsed": true
   },
   "outputs": [],
   "source": []
  }
 ],
 "metadata": {
  "kernelspec": {
   "display_name": "Python 3",
   "language": "python",
   "name": "python3"
  },
  "language_info": {
   "codemirror_mode": {
    "name": "ipython",
    "version": 3
   },
   "file_extension": ".py",
   "mimetype": "text/x-python",
   "name": "python",
   "nbconvert_exporter": "python",
   "pygments_lexer": "ipython3",
   "version": "3.6.1"
  }
 },
 "nbformat": 4,
 "nbformat_minor": 2
}
